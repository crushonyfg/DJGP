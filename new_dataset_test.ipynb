{
 "cells": [
  {
   "cell_type": "code",
   "execution_count": 1,
   "metadata": {},
   "outputs": [
    {
     "name": "stdout",
     "output_type": "stream",
     "text": [
      "dict_keys(['__header__', '__version__', '__globals__', 'x', 'xt', 'y', 'yt'])\n"
     ]
    }
   ],
   "source": [
    "from scipy.io import loadmat\n",
    "\n",
    "# 加载 .mat 文件\n",
    "data = loadmat('OHTDataset.mat')\n",
    "\n",
    "# 查看文件中有哪些变量\n",
    "print(data.keys())\n"
   ]
  },
  {
   "cell_type": "code",
   "execution_count": 2,
   "metadata": {},
   "outputs": [],
   "source": [
    "X_train = data['x']\n",
    "Y_train = data['y']\n",
    "X_test = data['xt']\n",
    "Y_test = data['yt']\n",
    "\n",
    "use_subsample = False\n",
    "if use_subsample:\n",
    "    import numpy as np\n",
    "\n",
    "    # 假设 X_test, Y_test 都是 numpy 数组\n",
    "    n_test = X_test.shape[0]\n",
    "    n_sub  = n_test // 4           # 向下取整得到 1/4 的样本数\n",
    "\n",
    "    # 随机不放回抽取 n_sub 个索引\n",
    "    idx = np.random.choice(n_test, size=n_sub, replace=False)\n",
    "\n",
    "    # 取出子集\n",
    "    X_test = X_test[idx]\n",
    "    Y_test = Y_test[idx]\n",
    "\n",
    "\n",
    "import torch\n",
    "x_train = torch.tensor(X_train, dtype=torch.float32)\n",
    "x_test = torch.tensor(X_test, dtype=torch.float32)\n",
    "y_train = torch.tensor(Y_train, dtype=torch.float32).squeeze(-1)\n",
    "y_test = torch.tensor(Y_test, dtype=torch.float32).squeeze(-1)"
   ]
  },
  {
   "cell_type": "code",
   "execution_count": 3,
   "metadata": {},
   "outputs": [
    {
     "data": {
      "text/plain": [
       "(torch.Size([130, 4]), torch.Size([517, 4]))"
      ]
     },
     "execution_count": 3,
     "metadata": {},
     "output_type": "execute_result"
    }
   ],
   "source": [
    "x_train.shape, x_test.shape"
   ]
  },
  {
   "cell_type": "code",
   "execution_count": 5,
   "metadata": {},
   "outputs": [
    {
     "data": {
      "text/plain": [
       "(8429, 4)"
      ]
     },
     "execution_count": 5,
     "metadata": {},
     "output_type": "execute_result"
    }
   ],
   "source": [
    "type(X)\n",
    "type(Y)\n",
    "X.shape\n",
    "# Y.shape\n"
   ]
  },
  {
   "cell_type": "code",
   "execution_count": 6,
   "metadata": {},
   "outputs": [
    {
     "name": "stdout",
     "output_type": "stream",
     "text": [
      "<class 'numpy.ndarray'>\n"
     ]
    }
   ],
   "source": [
    "print(type(X))\n"
   ]
  },
  {
   "cell_type": "code",
   "execution_count": 4,
   "metadata": {},
   "outputs": [
    {
     "name": "stdout",
     "output_type": "stream",
     "text": [
      "Train: torch.Size([5899, 4]) torch.Size([5899])\n",
      "Val:   torch.Size([1265, 4]) torch.Size([1265])\n",
      "Test:  torch.Size([1265, 4]) torch.Size([1265])\n"
     ]
    }
   ],
   "source": [
    "import numpy as np\n",
    "import torch\n",
    "from sklearn.model_selection import train_test_split\n",
    "\n",
    "# 假设 x 和 y 是 numpy arrays，维度分别为 (8429, 4) 和 (8429, 1)\n",
    "# 例子：\n",
    "# x = np.random.rand(8429, 4)\n",
    "# y = np.random.rand(8429, 1)\n",
    "\n",
    "# 1. 转换为 torch.Tensor\n",
    "x_tensor = torch.tensor(X, dtype=torch.float32)\n",
    "y_tensor = torch.tensor(Y, dtype=torch.float32).squeeze(-1)\n",
    "\n",
    "# 2. 使用 sklearn 分割数据\n",
    "# 先分出 test 集（15%）\n",
    "x_temp, x_test, y_temp, y_test = train_test_split(x_tensor, y_tensor, test_size=0.15, random_state=42)\n",
    "\n",
    "# 再从剩下的 85% 中分出 val（15% of total，即 val 是 15%，train 是 70%）\n",
    "x_train, x_val, y_train, y_val = train_test_split(x_temp, y_temp, test_size=0.1765, random_state=42)\n",
    "# 0.1765 ≈ 15 / 85，为了使验证集是整体的 15%\n",
    "\n",
    "# 检查大小\n",
    "print(\"Train:\", x_train.shape, y_train.shape)\n",
    "print(\"Val:  \", x_val.shape, y_val.shape)\n",
    "print(\"Test: \", x_test.shape, y_test.shape)\n"
   ]
  },
  {
   "cell_type": "code",
   "execution_count": 34,
   "metadata": {},
   "outputs": [
    {
     "name": "stdout",
     "output_type": "stream",
     "text": [
      "x_train: torch.Size([1300, 4])\n",
      "x_test:  torch.Size([100, 4])\n"
     ]
    }
   ],
   "source": [
    "import torch\n",
    "\n",
    "# 假设 x_tensor.shape = (8429, 4), y_tensor.shape = (8429, 1)\n",
    "\n",
    "# 总样本数\n",
    "n_samples = x_tensor.shape[0]\n",
    "\n",
    "# 随机打乱索引\n",
    "indices = torch.randperm(n_samples)\n",
    "\n",
    "# 选出前 130 条作为训练，接着 130 条作为测试\n",
    "train_idx = indices[:1300]\n",
    "test_idx = indices[1300:1400]\n",
    "\n",
    "# 抽样\n",
    "x_train = x_tensor[train_idx]\n",
    "y_train = y_tensor[train_idx]\n",
    "\n",
    "x_test = x_tensor[test_idx]\n",
    "y_test = y_tensor[test_idx]\n",
    "\n",
    "# 检查大小\n",
    "print(\"x_train:\", x_train.shape)\n",
    "print(\"x_test: \", x_test.shape)\n"
   ]
  },
  {
   "cell_type": "code",
   "execution_count": 19,
   "metadata": {},
   "outputs": [
    {
     "data": {
      "text/plain": [
       "tensor([107.5856, -16.5657, -17.5001,  -7.3963, -15.1272,  -7.7891,  -9.5079,\n",
       "         -6.9160, -14.2377,  -8.2937, -17.0222, -14.6513, -12.7637,  -4.0335,\n",
       "          2.1772,  57.7837,  -6.9840,  39.4735,  -1.0438, -17.4361,  -1.9445,\n",
       "         -4.1028, -17.3725, -17.3775,  -0.1986,  45.6261,  -4.6447,  -8.0551,\n",
       "         -4.5774,  -7.0008,   4.7403, -12.7243,  -6.5046,  43.9415,  33.2987,\n",
       "        -17.6890, -17.3858, -15.9047, -17.4303,   6.5453, -16.2187,  -3.6359,\n",
       "         -7.8839, -15.6139, -16.2589,  -1.6400,  -6.7909,  -4.8102,  -1.4041,\n",
       "        -11.4467,  -2.9109, -17.3043,  -1.9388,  -9.4244,  -2.8949, -17.4419,\n",
       "        -15.2015,  -6.3763,  -5.5120, -17.4019,  -5.7606, -17.7048,  -2.9743,\n",
       "        -16.0246,  -8.7441, -15.8115, -10.0705,  -7.9056,  78.2525, -16.6521,\n",
       "        -13.7567,  53.8952,   0.1203, -15.5549, -16.3319, -16.9235,  81.5862,\n",
       "         -2.3543, -11.8882, -17.3352, -17.3974, -17.6391,  12.9398, -17.7225,\n",
       "        -15.0543, -14.6821, -15.7647,  -2.5926, -17.0418,  42.2100,  33.3619,\n",
       "         -5.3632, -14.7216,  95.7786, -16.8367, -16.9711, -13.3207,  60.5551,\n",
       "        -17.6789, -17.0822])"
      ]
     },
     "execution_count": 19,
     "metadata": {},
     "output_type": "execute_result"
    }
   ],
   "source": [
    "y_test"
   ]
  },
  {
   "cell_type": "code",
   "execution_count": 5,
   "metadata": {},
   "outputs": [
    {
     "name": "stderr",
     "output_type": "stream",
     "text": [
      "100%|██████████| 517/517 [00:56<00:00,  9.21it/s]\n"
     ]
    },
    {
     "data": {
      "text/plain": [
       "[tensor(13.3569), tensor(4.3441), 56.119898557662964]"
      ]
     },
     "execution_count": 5,
     "metadata": {},
     "output_type": "execute_result"
    }
   ],
   "source": [
    "from JumpGP_test import *\n",
    "\n",
    "M = 20\n",
    "neighborhoods = find_neighborhoods(x_test, x_train, y_train, M)\n",
    "device = torch.device('cuda' if torch.cuda.is_available() else 'cpu')\n",
    "result = evaluate_jumpgp(x_test, y_test, neighborhoods, device)\n",
    "result"
   ]
  },
  {
   "cell_type": "code",
   "execution_count": null,
   "metadata": {},
   "outputs": [],
   "source": []
  },
  {
   "cell_type": "code",
   "execution_count": 32,
   "metadata": {},
   "outputs": [
    {
     "ename": "AssertionError",
     "evalue": "Size mismatch between tensors",
     "output_type": "error",
     "traceback": [
      "\u001b[1;31m---------------------------------------------------------------------------\u001b[0m",
      "\u001b[1;31mAssertionError\u001b[0m                            Traceback (most recent call last)",
      "Cell \u001b[1;32mIn[32], line 26\u001b[0m\n\u001b[0;32m     24\u001b[0m \u001b[38;5;66;03m# 创建数据加载器\u001b[39;00m\n\u001b[0;32m     25\u001b[0m batch_size, hidden_dim, lr \u001b[38;5;241m=\u001b[39m \u001b[38;5;241m128\u001b[39m, \u001b[38;5;241m2\u001b[39m, \u001b[38;5;241m0.01\u001b[39m\n\u001b[1;32m---> 26\u001b[0m train_dataset \u001b[38;5;241m=\u001b[39m \u001b[43mTensorDataset\u001b[49m\u001b[43m(\u001b[49m\u001b[43mX_train\u001b[49m\u001b[43m,\u001b[49m\u001b[43m \u001b[49m\u001b[43mY_train\u001b[49m\u001b[43m)\u001b[49m\n\u001b[0;32m     27\u001b[0m test_dataset \u001b[38;5;241m=\u001b[39m TensorDataset(X_test, Y_test)\n\u001b[0;32m     28\u001b[0m train_loader \u001b[38;5;241m=\u001b[39m DataLoader(train_dataset, batch_size\u001b[38;5;241m=\u001b[39mbatch_size, shuffle\u001b[38;5;241m=\u001b[39m\u001b[38;5;28;01mTrue\u001b[39;00m)\n",
      "File \u001b[1;32md:\\new_windows\\envs\\torch-py310-yxu\\lib\\site-packages\\torch\\utils\\data\\dataset.py:201\u001b[0m, in \u001b[0;36mTensorDataset.__init__\u001b[1;34m(self, *tensors)\u001b[0m\n\u001b[0;32m    200\u001b[0m \u001b[38;5;28;01mdef\u001b[39;00m\u001b[38;5;250m \u001b[39m\u001b[38;5;21m__init__\u001b[39m(\u001b[38;5;28mself\u001b[39m, \u001b[38;5;241m*\u001b[39mtensors: Tensor) \u001b[38;5;241m-\u001b[39m\u001b[38;5;241m>\u001b[39m \u001b[38;5;28;01mNone\u001b[39;00m:\n\u001b[1;32m--> 201\u001b[0m     \u001b[38;5;28;01massert\u001b[39;00m \u001b[38;5;28mall\u001b[39m(\n\u001b[0;32m    202\u001b[0m         tensors[\u001b[38;5;241m0\u001b[39m]\u001b[38;5;241m.\u001b[39msize(\u001b[38;5;241m0\u001b[39m) \u001b[38;5;241m==\u001b[39m tensor\u001b[38;5;241m.\u001b[39msize(\u001b[38;5;241m0\u001b[39m) \u001b[38;5;28;01mfor\u001b[39;00m tensor \u001b[38;5;129;01min\u001b[39;00m tensors\n\u001b[0;32m    203\u001b[0m     ), \u001b[38;5;124m\"\u001b[39m\u001b[38;5;124mSize mismatch between tensors\u001b[39m\u001b[38;5;124m\"\u001b[39m\n\u001b[0;32m    204\u001b[0m     \u001b[38;5;28mself\u001b[39m\u001b[38;5;241m.\u001b[39mtensors \u001b[38;5;241m=\u001b[39m tensors\n",
      "\u001b[1;31mAssertionError\u001b[0m: Size mismatch between tensors"
     ]
    }
   ],
   "source": [
    "from DeepGP_test import *\n",
    "\n",
    "from argparse import Namespace\n",
    "\n",
    "args = Namespace(\n",
    "    epochs=100,           # 训练轮数\n",
    "    num_epochs=300,\n",
    "    batch_size=1024,\n",
    "    hidden_dim=2,\n",
    "    lr=0.01,\n",
    "    print_freq=10,        # 每多少个 epoch 打印一次信息\n",
    "    # save_path=\"./model\",  # 模型保存路径（可选）\n",
    "    eval=True,            # 是否评估模型性能\n",
    "    patience=30,          # 提前停止的耐心轮数\n",
    "    clip_grad=1.0,        # 梯度裁剪（可选）\n",
    "    # 如果你的 train_model 用了更多字段，也可以在这里继续加\n",
    ")\n",
    "\n",
    "X_train = x_train.float().to(device)\n",
    "Y_train = y_train.float().squeeze(-1).to(device)\n",
    "X_test = x_test.float().to(device)\n",
    "Y_test = y_test.float().squeeze(-1).to(device)\n",
    "\n",
    "# 创建数据加载器\n",
    "batch_size, hidden_dim, lr = 128, 2, 0.01\n",
    "train_dataset = TensorDataset(X_train, Y_train)\n",
    "test_dataset = TensorDataset(X_test, Y_test)\n",
    "train_loader = DataLoader(train_dataset, batch_size=batch_size, shuffle=True)\n",
    "test_loader = DataLoader(test_dataset, batch_size=batch_size)\n",
    "\n",
    "# 初始化模型\n",
    "model = DeepGP(X_train.shape, hidden_dim).to(device)\n",
    "\n",
    "# 初始化优化器和损失函数\n",
    "optimizer = torch.optim.Adam([{'params': model.parameters()}], lr=lr)\n",
    "mll = DeepApproximateMLL(VariationalELBO(model.likelihood, model, X_train.shape[-2]))\n",
    "\n",
    "# 训练模型\n",
    "final_metrics = train_model(model, train_loader, test_loader, optimizer, mll, args)\n",
    "final_metrics"
   ]
  },
  {
   "cell_type": "code",
   "execution_count": 23,
   "metadata": {},
   "outputs": [
    {
     "data": {
      "text/plain": [
       "{'rmse': 9.701085090637207,\n",
       " 'crps': 3.1565728187561035,\n",
       " 'run_time': 44.060378313064575}"
      ]
     },
     "execution_count": 23,
     "metadata": {},
     "output_type": "execute_result"
    }
   ],
   "source": [
    "final_metrics"
   ]
  },
  {
   "cell_type": "code",
   "execution_count": null,
   "metadata": {},
   "outputs": [
    {
     "name": "stdout",
     "output_type": "stream",
     "text": [
      "Using device: cuda\n",
      "Using device: cuda\n",
      "Everything set!\n",
      "[Step 1/300] ELBO=-70.1784, LR=1.00e-02\n",
      "[Step 50/300] ELBO=-22.4822, LR=1.00e-02\n",
      "[Step 100/300] ELBO=-11.0758, LR=1.00e-02\n",
      "[Step 150/300] ELBO=-6.8363, LR=1.00e-02\n",
      "[Step 200/300] ELBO=-4.9394, LR=1.00e-02\n",
      "[Step 250/300] ELBO=-3.8180, LR=1.00e-02\n",
      "[Step 300/300] ELBO=-3.0684, LR=1.00e-02\n",
      "train OK\n"
     ]
    },
    {
     "name": "stderr",
     "output_type": "stream",
     "text": [
      "474it [00:55,  8.72it/s]"
     ]
    }
   ],
   "source": [
    "from DJGP_test import *\n",
    "from argparse import Namespace\n",
    "args = Namespace(\n",
    "    epochs=100,           # 训练轮数\n",
    "    num_epochs=300,\n",
    "    batch_size=1024,\n",
    "    hidden_dim=2,\n",
    "    lr=0.01,\n",
    "    print_freq=10,        # 每多少个 epoch 打印一次信息\n",
    "    # save_path=\"./model\",  # 模型保存路径（可选）\n",
    "    Q = 3,\n",
    "    m1 = 2,\n",
    "    m2 = 20,\n",
    "    n = 20,\n",
    "    num_steps = 300,\n",
    "    MC_num = 3,\n",
    "    eval=True,            # 是否评估模型性能\n",
    "    patience=10,          # 提前停止的耐心轮数\n",
    "    clip_grad=1.0,        # 梯度裁剪（可选）\n",
    "    # 如果你的 train_model 用了更多字段，也可以在这里继续加\n",
    ")\n",
    "device = torch.device('cuda' if torch.cuda.is_available() else 'cpu')\n",
    "X_train = x_train.float().to(device)\n",
    "Y_train = y_train.float().squeeze(-1).to(device)\n",
    "X_test = x_test.float().to(device)\n",
    "Y_test = y_test.float().squeeze(-1).to(device)\n",
    "\n",
    "N_test, D = X_test.shape\n",
    "T         = N_test\n",
    "Q         = args.Q\n",
    "m1        = args.m1\n",
    "m2        = args.m2\n",
    "n         = args.n\n",
    "num_steps = args.num_steps\n",
    "MC_num    = args.MC_num\n",
    "\n",
    "# 4. Build neighborhoods (on CPU) then move to GPU\n",
    "neighborhoods = find_neighborhoods(\n",
    "    X_test.cpu(), X_train.cpu(), Y_train.cpu(), M=n\n",
    ")\n",
    "regions = []\n",
    "start_time = time.time()\n",
    "for i in range(T):\n",
    "    X_nb = neighborhoods[i]['X_neighbors'].to(device)  # (n, D)\n",
    "    y_nb = neighborhoods[i]['y_neighbors'].to(device)  # (n,)\n",
    "    regions.append({\n",
    "        'X': X_nb,\n",
    "        'y': y_nb,\n",
    "        'C': torch.randn(m1, Q, device=device)       # random init\n",
    "    })\n",
    "\n",
    "# 5. Initialize V_params on GPU\n",
    "V_params = {\n",
    "    'mu_V':    torch.randn(m2, Q, D, device=device, requires_grad=True),\n",
    "    'sigma_V': torch.rand( m2, Q, D, device=device, requires_grad=True),\n",
    "}\n",
    "\n",
    "# 6. Initialize u_params on GPU\n",
    "u_params = []\n",
    "for _ in range(T):\n",
    "    u_params.append({\n",
    "        'U_logit':    torch.zeros(1, device=device, requires_grad=True),\n",
    "        'mu_u':       torch.randn(m1, device=device, requires_grad=True),\n",
    "        'Sigma_u':    torch.eye(m1, device=device, requires_grad=True),\n",
    "        'sigma_noise':torch.tensor(0.5, device=device, requires_grad=True),\n",
    "        'sigma_k':torch.tensor(0.5, device=device, requires_grad=True),\n",
    "        'omega':      torch.randn(Q+1, device=device, requires_grad=True),\n",
    "    })\n",
    "\n",
    "# 7. Initialize hyperparams on GPU\n",
    "X_train_mean = X_train.mean(dim=0)\n",
    "X_train_std  = X_train.std(dim=0)\n",
    "Z = X_train_mean + torch.randn(m2, D, device=device) * X_train_std\n",
    "\n",
    "hyperparams = {\n",
    "    'Z':            Z,                      # (m2, D)\n",
    "    'X_test':       X_test,                 # (T, D)\n",
    "    'lengthscales':torch.rand(Q, device=device, requires_grad=True),\n",
    "    'var_w':        torch.tensor(1.0, device=device, requires_grad=True),\n",
    "}\n",
    "\n",
    "print(\"Everything set!\")\n",
    "\n",
    "# 8. Compute ELBO, backprop, train, predict\n",
    "# L = compute_ELBO(regions, V_params, u_params, hyperparams)\n",
    "# print(\"ELBO L =\", L.item())\n",
    "# L.backward()\n",
    "# print(\"Gradients OK\")\n",
    "\n",
    "V_params, u_params, hyperparams = train_vi(\n",
    "    regions=regions,\n",
    "    V_params=V_params,\n",
    "    u_params=u_params,\n",
    "    hyperparams=hyperparams,\n",
    "    lr=args.lr,\n",
    "    num_steps=num_steps,\n",
    "    log_interval=50\n",
    ")\n",
    "print(\"train OK\")\n",
    "\n",
    "mu_pred, var_pred = predict_vi(\n",
    "    regions, V_params, hyperparams, M=MC_num\n",
    ")\n",
    "print(\"Prediction OK\")\n",
    "# print(\"mu_pred:\", mu_pred.shape)\n",
    "# print(\"var_pred:\", var_pred.shape)\n",
    "\n",
    "# 9. Compute metrics & runtime\n",
    "run_time = time.time() - start_time\n",
    "# rmse, q25, q50, q75 = compute_metrics(mu_pred, var_pred, Y_test)\n",
    "# print(\"Results [rmse, 25%, 50%, 75%, runtime]:\")\n",
    "# print([rmse, q25, q50, q75, run_time])\n",
    "\n",
    "# return [rmse, q25, q50, q75, run_time]\n",
    "sigmas = torch.sqrt(var_pred)\n",
    "rmse, mean_crps = compute_metrics(mu_pred, sigmas, Y_test)\n",
    "print(f\"Results [rmse, mean crps, runtime]:{[rmse, mean_crps]}\")"
   ]
  },
  {
   "cell_type": "code",
   "execution_count": 18,
   "metadata": {},
   "outputs": [
    {
     "name": "stderr",
     "output_type": "stream",
     "text": [
      "d:\\new_windows\\envs\\torch-py310-yxu\\lib\\site-packages\\sklearn\\gaussian_process\\kernels.py:442: ConvergenceWarning: The optimal value found for dimension 0 of parameter k2__length_scale is close to the specified lower bound 1e-05. Decreasing the bound and calling fit again may find a better value.\n",
      "  warnings.warn(\n",
      "d:\\new_windows\\envs\\torch-py310-yxu\\lib\\site-packages\\sklearn\\gaussian_process\\kernels.py:442: ConvergenceWarning: The optimal value found for dimension 0 of parameter k2__length_scale is close to the specified lower bound 1e-05. Decreasing the bound and calling fit again may find a better value.\n",
      "  warnings.warn(\n",
      "d:\\new_windows\\envs\\torch-py310-yxu\\lib\\site-packages\\sklearn\\gaussian_process\\kernels.py:442: ConvergenceWarning: The optimal value found for dimension 0 of parameter k2__length_scale is close to the specified lower bound 1e-05. Decreasing the bound and calling fit again may find a better value.\n",
      "  warnings.warn(\n",
      "d:\\new_windows\\envs\\torch-py310-yxu\\lib\\site-packages\\sklearn\\gaussian_process\\kernels.py:442: ConvergenceWarning: The optimal value found for dimension 0 of parameter k2__length_scale is close to the specified lower bound 1e-05. Decreasing the bound and calling fit again may find a better value.\n",
      "  warnings.warn(\n",
      "d:\\new_windows\\envs\\torch-py310-yxu\\lib\\site-packages\\sklearn\\gaussian_process\\kernels.py:442: ConvergenceWarning: The optimal value found for dimension 0 of parameter k2__length_scale is close to the specified lower bound 1e-05. Decreasing the bound and calling fit again may find a better value.\n",
      "  warnings.warn(\n"
     ]
    },
    {
     "name": "stdout",
     "output_type": "stream",
     "text": [
      "Test RMSE: 15.0792\n"
     ]
    }
   ],
   "source": [
    "import torch\n",
    "import numpy as np\n",
    "from sklearn.tree import DecisionTreeRegressor\n",
    "from sklearn.gaussian_process import GaussianProcessRegressor\n",
    "from sklearn.gaussian_process.kernels import RBF, ConstantKernel as C\n",
    "from sklearn.metrics import mean_squared_error\n",
    "\n",
    "# 将 tensor 转为 numpy\n",
    "X_train_np = X_train\n",
    "Y_train_np = Y_train\n",
    "X_test_np = X_test\n",
    "Y_test_np = Y_test\n",
    "\n",
    "# Step 1: 用决策树划分训练数据空间\n",
    "tree = DecisionTreeRegressor(max_leaf_nodes=5, random_state=42)\n",
    "tree.fit(X_train_np, Y_train_np)\n",
    "\n",
    "# Step 2: 对每个叶节点训练一个独立 GP 模型\n",
    "leaf_indices = tree.apply(X_train_np)\n",
    "gp_models = {}\n",
    "\n",
    "for leaf_id in np.unique(leaf_indices):\n",
    "    idx = (leaf_indices == leaf_id)\n",
    "    X_leaf = X_train_np[idx]\n",
    "    Y_leaf = Y_train_np[idx]\n",
    "    \n",
    "    # 定义核函数并训练 GP\n",
    "    kernel = C(1.0, (1e-3, 1e3)) * RBF(length_scale=1.0)\n",
    "    # length_scale = np.ones(X_train_np.shape[1])  # 每维初始为1.0\n",
    "    # kernel = C(1.0, (1e-3, 1e3)) * RBF(length_scale=length_scale)\n",
    "\n",
    "    gp = GaussianProcessRegressor(kernel=kernel, alpha=1e-2, normalize_y=True)\n",
    "    gp.fit(X_leaf, Y_leaf)\n",
    "    gp_models[leaf_id] = gp\n",
    "\n",
    "# Step 3: 对测试集进行预测\n",
    "test_leaf_indices = tree.apply(X_test_np)\n",
    "y_preds = []\n",
    "\n",
    "for i, leaf_id in enumerate(test_leaf_indices):\n",
    "    x_i = X_test_np[i].reshape(1, -1)\n",
    "    if leaf_id in gp_models:\n",
    "        y_pred = gp_models[leaf_id].predict(x_i)[0]\n",
    "    else:\n",
    "        # 万一落在训练集中不存在的叶子上（很少），返回平均值\n",
    "        y_pred = np.mean(Y_train_np)\n",
    "    y_preds.append(y_pred)\n",
    "\n",
    "y_preds = np.array(y_preds)\n",
    "\n",
    "# Step 4: 计算 RMSE\n",
    "rmse = np.sqrt(mean_squared_error(Y_test_np, y_preds))\n",
    "print(f\"Test RMSE: {rmse:.4f}\")\n"
   ]
  },
  {
   "cell_type": "code",
   "execution_count": 15,
   "metadata": {},
   "outputs": [
    {
     "name": "stdout",
     "output_type": "stream",
     "text": [
      "Test RMSE: 18.0528\n",
      "Test CRPS: 11.1017\n"
     ]
    }
   ],
   "source": [
    "from scipy.stats import norm\n",
    "\n",
    "# 新增：记录预测均值和标准差\n",
    "mu_list = []\n",
    "sigma_list = []\n",
    "\n",
    "for i, leaf_id in enumerate(test_leaf_indices):\n",
    "    x_i = X_test_np[i].reshape(1, -1)\n",
    "    if leaf_id in gp_models:\n",
    "        mu, std = gp_models[leaf_id].predict(x_i, return_std=True)\n",
    "        mu_list.append(mu[0])\n",
    "        sigma_list.append(std[0])\n",
    "    else:\n",
    "        # fallback：均值 = Y_train 平均，std = Y_train std\n",
    "        mu_list.append(np.mean(Y_train_np))\n",
    "        sigma_list.append(np.std(Y_train_np))\n",
    "\n",
    "mu_preds = np.array(mu_list)\n",
    "sigma_preds = np.array(sigma_list)\n",
    "y_true = Y_test_np\n",
    "\n",
    "# 计算 CRPS（使用 Gaussian 封闭形式）\n",
    "# def gaussian_crps(mu, sigma, y):\n",
    "#     z = (y - mu) / sigma\n",
    "#     # return sigma * (1/np.sqrt(np.pi) - 2 * norm.pdf(z) - z * (2 * norm.cdf(z) - 1))\n",
    "#     cdf = 0.5 * (1 + torch.erf(z / math.sqrt(2)))\n",
    "#     pdf = torch.exp(-0.5 * z**2) / math.sqrt(2 * math.pi)\n",
    "#     # CRPS 闭式公式\n",
    "#     crps = sigmas * ( z * (2 * cdf - 1) + 2 * pdf - 1 / math.sqrt(math.pi) )\n",
    "#     return crps\n",
    "import numpy as np\n",
    "from scipy.stats import norm\n",
    "\n",
    "def gaussian_crps(mu, sigma, y):\n",
    "    z = (y - mu) / sigma\n",
    "    cdf = norm.cdf(z)\n",
    "    pdf = norm.pdf(z)\n",
    "    crps = sigma * (z * (2 * cdf - 1) + 2 * pdf - 1 / np.sqrt(np.pi))\n",
    "    return crps\n",
    "\n",
    "\n",
    "crps_scores = gaussian_crps(mu_preds, sigma_preds, y_true)\n",
    "mean_crps = np.mean(crps_scores)\n",
    "\n",
    "# 打印 RMSE 和 CRPS\n",
    "rmse = np.sqrt(mean_squared_error(y_true, mu_preds))\n",
    "print(f\"Test RMSE: {rmse:.4f}\")\n",
    "print(f\"Test CRPS: {mean_crps:.4f}\")\n"
   ]
  },
  {
   "cell_type": "code",
   "execution_count": 8,
   "metadata": {},
   "outputs": [
    {
     "name": "stdout",
     "output_type": "stream",
     "text": [
      "Test RMSE: 10.7734\n"
     ]
    }
   ],
   "source": [
    "import torch\n",
    "import numpy as np\n",
    "from sklearn.tree import DecisionTreeRegressor\n",
    "from sklearn.gaussian_process import GaussianProcessRegressor\n",
    "from sklearn.gaussian_process.kernels import RBF, ConstantKernel as C\n",
    "from sklearn.metrics import mean_squared_error\n",
    "\n",
    "from sklearn.gaussian_process.kernels import Kernel\n",
    "from sklearn.metrics.pairwise import manhattan_distances\n",
    "import numpy as np\n",
    "\n",
    "class ExponentialKernel(Kernel):\n",
    "    def __init__(self, length_scale=1.0):\n",
    "        self.length_scale = length_scale\n",
    "\n",
    "    def __call__(self, X, Y=None, eval_gradient=False):\n",
    "        dists = manhattan_distances(X / self.length_scale, Y / self.length_scale if Y is not None else X)\n",
    "        K = np.exp(-dists)\n",
    "        \n",
    "        if eval_gradient:\n",
    "            # Gradient is not implemented\n",
    "            return K, np.empty((X.shape[0], X.shape[0], 0))\n",
    "        return K\n",
    "\n",
    "    def diag(self, X):\n",
    "        return np.ones(X.shape[0])\n",
    "\n",
    "    def is_stationary(self):\n",
    "        return True\n",
    "\n",
    "\n",
    "# 将 tensor 转为 numpy\n",
    "X_train_np = X_train\n",
    "Y_train_np = Y_train\n",
    "X_test_np = X_test\n",
    "Y_test_np = Y_test\n",
    "\n",
    "# Step 1: 用决策树划分训练数据空间\n",
    "tree = DecisionTreeRegressor(max_leaf_nodes=5, random_state=42)\n",
    "tree.fit(X_train_np, Y_train_np)\n",
    "\n",
    "# Step 2: 对每个叶节点训练一个独立 GP 模型\n",
    "leaf_indices = tree.apply(X_train_np)\n",
    "gp_models = {}\n",
    "\n",
    "for leaf_id in np.unique(leaf_indices):\n",
    "    idx = (leaf_indices == leaf_id)\n",
    "    X_leaf = X_train_np[idx]\n",
    "    Y_leaf = Y_train_np[idx]\n",
    "    \n",
    "    # 定义核函数并训练 GP\n",
    "    # kernel = C(1.0, (1e-3, 1e3)) * RBF(length_scale=1.0)\n",
    "    kernel = C(1.0, (1e-3, 1e3)) * ExponentialKernel(length_scale=1.0)\n",
    "    gp = GaussianProcessRegressor(kernel=kernel, alpha=1e-2, normalize_y=True)\n",
    "    gp.fit(X_leaf, Y_leaf)\n",
    "    gp_models[leaf_id] = gp\n",
    "\n",
    "# Step 3: 对测试集进行预测\n",
    "test_leaf_indices = tree.apply(X_test_np)\n",
    "y_preds = []\n",
    "\n",
    "for i, leaf_id in enumerate(test_leaf_indices):\n",
    "    x_i = X_test_np[i].reshape(1, -1)\n",
    "    if leaf_id in gp_models:\n",
    "        y_pred = gp_models[leaf_id].predict(x_i)[0]\n",
    "    else:\n",
    "        # 万一落在训练集中不存在的叶子上（很少），返回平均值\n",
    "        y_pred = np.mean(Y_train_np)\n",
    "    y_preds.append(y_pred)\n",
    "\n",
    "y_preds = np.array(y_preds)\n",
    "\n",
    "# Step 4: 计算 RMSE\n",
    "rmse = np.sqrt(mean_squared_error(Y_test_np, y_preds))\n",
    "print(f\"Test RMSE: {rmse:.4f}\")\n"
   ]
  },
  {
   "cell_type": "code",
   "execution_count": 9,
   "metadata": {},
   "outputs": [
    {
     "name": "stdout",
     "output_type": "stream",
     "text": [
      "Test RMSE: 10.7734\n",
      "Test CRPS: 11.7360\n"
     ]
    }
   ],
   "source": [
    "from scipy.stats import norm\n",
    "\n",
    "# 新增：记录预测均值和标准差\n",
    "mu_list = []\n",
    "sigma_list = []\n",
    "\n",
    "for i, leaf_id in enumerate(test_leaf_indices):\n",
    "    x_i = X_test_np[i].reshape(1, -1)\n",
    "    if leaf_id in gp_models:\n",
    "        mu, std = gp_models[leaf_id].predict(x_i, return_std=True)\n",
    "        mu_list.append(mu[0])\n",
    "        sigma_list.append(std[0])\n",
    "    else:\n",
    "        # fallback：均值 = Y_train 平均，std = Y_train std\n",
    "        mu_list.append(np.mean(Y_train_np))\n",
    "        sigma_list.append(np.std(Y_train_np))\n",
    "\n",
    "mu_preds = np.array(mu_list)\n",
    "sigma_preds = np.array(sigma_list)\n",
    "y_true = Y_test_np\n",
    "\n",
    "# 计算 CRPS（使用 Gaussian 封闭形式）\n",
    "# def gaussian_crps(mu, sigma, y):\n",
    "#     z = (y - mu) / sigma\n",
    "#     # return sigma * (1/np.sqrt(np.pi) - 2 * norm.pdf(z) - z * (2 * norm.cdf(z) - 1))\n",
    "#     cdf = 0.5 * (1 + torch.erf(z / math.sqrt(2)))\n",
    "#     pdf = torch.exp(-0.5 * z**2) / math.sqrt(2 * math.pi)\n",
    "#     # CRPS 闭式公式\n",
    "#     crps = sigmas * ( z * (2 * cdf - 1) + 2 * pdf - 1 / math.sqrt(math.pi) )\n",
    "#     return crps\n",
    "import numpy as np\n",
    "from scipy.stats import norm\n",
    "\n",
    "def gaussian_crps(mu, sigma, y):\n",
    "    z = (y - mu) / sigma\n",
    "    cdf = norm.cdf(z)\n",
    "    pdf = norm.pdf(z)\n",
    "    crps = sigma * (z * (2 * cdf - 1) + 2 * pdf - 1 / np.sqrt(np.pi))\n",
    "    return crps\n",
    "\n",
    "\n",
    "crps_scores = gaussian_crps(mu_preds, sigma_preds, y_true)\n",
    "mean_crps = np.mean(crps_scores)\n",
    "\n",
    "# 打印 RMSE 和 CRPS\n",
    "rmse = np.sqrt(mean_squared_error(y_true, mu_preds))\n",
    "print(f\"Test RMSE: {rmse:.4f}\")\n",
    "print(f\"Test CRPS: {mean_crps:.4f}\")\n"
   ]
  },
  {
   "cell_type": "code",
   "execution_count": 9,
   "metadata": {},
   "outputs": [
    {
     "name": "stderr",
     "output_type": "stream",
     "text": [
      "d:\\new_windows\\envs\\torch-py310-yxu\\lib\\site-packages\\sklearn\\gaussian_process\\kernels.py:452: ConvergenceWarning: The optimal value found for dimension 0 of parameter k1__constant_value is close to the specified upper bound 1000.0. Increasing the bound and calling fit again may find a better value.\n",
      "  warnings.warn(\n",
      "d:\\new_windows\\envs\\torch-py310-yxu\\lib\\site-packages\\sklearn\\gaussian_process\\kernels.py:452: ConvergenceWarning: The optimal value found for dimension 0 of parameter k1__constant_value is close to the specified upper bound 1000.0. Increasing the bound and calling fit again may find a better value.\n",
      "  warnings.warn(\n",
      "d:\\new_windows\\envs\\torch-py310-yxu\\lib\\site-packages\\sklearn\\gaussian_process\\kernels.py:452: ConvergenceWarning: The optimal value found for dimension 0 of parameter k1__constant_value is close to the specified upper bound 1000.0. Increasing the bound and calling fit again may find a better value.\n",
      "  warnings.warn(\n",
      "d:\\new_windows\\envs\\torch-py310-yxu\\lib\\site-packages\\sklearn\\gaussian_process\\kernels.py:452: ConvergenceWarning: The optimal value found for dimension 0 of parameter k1__constant_value is close to the specified upper bound 1000.0. Increasing the bound and calling fit again may find a better value.\n",
      "  warnings.warn(\n"
     ]
    },
    {
     "name": "stdout",
     "output_type": "stream",
     "text": [
      "Test RMSE: 10.5050\n"
     ]
    }
   ],
   "source": [
    "import torch\n",
    "import numpy as np\n",
    "from sklearn.tree import DecisionTreeRegressor\n",
    "from sklearn.gaussian_process import GaussianProcessRegressor\n",
    "from sklearn.gaussian_process.kernels import RBF, ConstantKernel as C\n",
    "from sklearn.metrics import mean_squared_error\n",
    "\n",
    "from sklearn.gaussian_process.kernels import Kernel\n",
    "from sklearn.metrics.pairwise import manhattan_distances\n",
    "import numpy as np\n",
    "\n",
    "from sklearn.gaussian_process.kernels import Kernel\n",
    "from sklearn.utils import check_array\n",
    "import numpy as np\n",
    "\n",
    "from sklearn.gaussian_process.kernels import Kernel, Hyperparameter\n",
    "from sklearn.utils import check_array\n",
    "import numpy as np\n",
    "\n",
    "class ExponentialKernelARD(Kernel):\n",
    "    def __init__(self, length_scale=1.0):\n",
    "        self.length_scale = length_scale  # 保留原始值\n",
    "\n",
    "    def __call__(self, X, Y=None, eval_gradient=False):\n",
    "        X = check_array(X)\n",
    "        if Y is None:\n",
    "            Y = X\n",
    "        else:\n",
    "            Y = check_array(Y)\n",
    "\n",
    "        length_scale = np.asarray(self.length_scale)\n",
    "        if length_scale.ndim == 0:\n",
    "            length_scale = np.full(X.shape[1], length_scale)\n",
    "        elif length_scale.shape[0] != X.shape[1]:\n",
    "            raise ValueError(\"length_scale must have shape (n_features,)\")\n",
    "\n",
    "        X_scaled = X / length_scale\n",
    "        Y_scaled = Y / length_scale\n",
    "        dists = np.linalg.norm(X_scaled[:, np.newaxis, :] - Y_scaled[np.newaxis, :, :], axis=2)\n",
    "        K = np.exp(-dists)\n",
    "\n",
    "        if eval_gradient:\n",
    "            # 不支持梯度优化\n",
    "            return K, np.empty((X.shape[0], Y.shape[0], 0))\n",
    "        return K\n",
    "\n",
    "    def diag(self, X):\n",
    "        return np.ones(X.shape[0])\n",
    "\n",
    "    def is_stationary(self):\n",
    "        return True\n",
    "\n",
    "    def get_params(self, deep=True):\n",
    "        return {\"length_scale\": self.length_scale}\n",
    "\n",
    "    def __repr__(self):\n",
    "        return f\"{self.__class__.__name__}(length_scale={self.length_scale})\"\n",
    "\n",
    "\n",
    "\n",
    "\n",
    "# 将 tensor 转为 numpy\n",
    "X_train_np = X_train\n",
    "Y_train_np = Y_train\n",
    "X_test_np = X_test\n",
    "Y_test_np = Y_test\n",
    "\n",
    "# Step 1: 用决策树划分训练数据空间\n",
    "tree = DecisionTreeRegressor(max_leaf_nodes=5, random_state=42)\n",
    "tree.fit(X_train_np, Y_train_np)\n",
    "\n",
    "# Step 2: 对每个叶节点训练一个独立 GP 模型\n",
    "leaf_indices = tree.apply(X_train_np)\n",
    "gp_models = {}\n",
    "\n",
    "for leaf_id in np.unique(leaf_indices):\n",
    "    idx = (leaf_indices == leaf_id)\n",
    "    X_leaf = X_train_np[idx]\n",
    "    Y_leaf = Y_train_np[idx]\n",
    "    \n",
    "    # 定义核函数并训练 GP\n",
    "    # kernel = C(1.0, (1e-3, 1e3)) * RBF(length_scale=1.0)\n",
    "    kernel = C(1.0, (1e-3, 1e3)) * ExponentialKernelARD(length_scale=[1.0, 0.5, 2.0, 1.5])\n",
    "    gp = GaussianProcessRegressor(kernel=kernel, alpha=1e-2, normalize_y=False)\n",
    "    gp.fit(X_leaf, Y_leaf)\n",
    "    gp_models[leaf_id] = gp\n",
    "\n",
    "# Step 3: 对测试集进行预测\n",
    "test_leaf_indices = tree.apply(X_test_np)\n",
    "y_preds = []\n",
    "\n",
    "for i, leaf_id in enumerate(test_leaf_indices):\n",
    "    x_i = X_test_np[i].reshape(1, -1)\n",
    "    if leaf_id in gp_models:\n",
    "        y_pred = gp_models[leaf_id].predict(x_i)[0]\n",
    "    else:\n",
    "        # 万一落在训练集中不存在的叶子上（很少），返回平均值\n",
    "        y_pred = np.mean(Y_train_np)\n",
    "    y_preds.append(y_pred)\n",
    "\n",
    "y_preds = np.array(y_preds)\n",
    "\n",
    "# Step 4: 计算 RMSE\n",
    "rmse = np.sqrt(mean_squared_error(Y_test_np, y_preds))\n",
    "print(f\"Test RMSE: {rmse:.4f}\")\n"
   ]
  },
  {
   "cell_type": "code",
   "execution_count": 12,
   "metadata": {},
   "outputs": [
    {
     "name": "stdout",
     "output_type": "stream",
     "text": [
      "Test RMSE: 12.1540\n",
      "Test CRPS: 12.0774\n"
     ]
    }
   ],
   "source": [
    "from scipy.stats import norm\n",
    "\n",
    "# 新增：记录预测均值和标准差\n",
    "mu_list = []\n",
    "sigma_list = []\n",
    "\n",
    "for i, leaf_id in enumerate(test_leaf_indices):\n",
    "    x_i = X_test_np[i].reshape(1, -1)\n",
    "    if leaf_id in gp_models:\n",
    "        mu, std = gp_models[leaf_id].predict(x_i, return_std=True)\n",
    "        mu_list.append(mu[0])\n",
    "        sigma_list.append(std[0])\n",
    "    else:\n",
    "        # fallback：均值 = Y_train 平均，std = Y_train std\n",
    "        mu_list.append(np.mean(Y_train_np))\n",
    "        sigma_list.append(np.std(Y_train_np))\n",
    "\n",
    "mu_preds = np.array(mu_list)\n",
    "sigma_preds = np.array(sigma_list)\n",
    "y_true = Y_test_np\n",
    "\n",
    "# 计算 CRPS（使用 Gaussian 封闭形式）\n",
    "# def gaussian_crps(mu, sigma, y):\n",
    "#     z = (y - mu) / sigma\n",
    "#     # return sigma * (1/np.sqrt(np.pi) - 2 * norm.pdf(z) - z * (2 * norm.cdf(z) - 1))\n",
    "#     cdf = 0.5 * (1 + torch.erf(z / math.sqrt(2)))\n",
    "#     pdf = torch.exp(-0.5 * z**2) / math.sqrt(2 * math.pi)\n",
    "#     # CRPS 闭式公式\n",
    "#     crps = sigmas * ( z * (2 * cdf - 1) + 2 * pdf - 1 / math.sqrt(math.pi) )\n",
    "#     return crps\n",
    "import numpy as np\n",
    "from scipy.stats import norm\n",
    "\n",
    "def gaussian_crps(mu, sigma, y):\n",
    "    z = (y - mu) / sigma\n",
    "    cdf = norm.cdf(z)\n",
    "    pdf = norm.pdf(z)\n",
    "    crps = sigma * (z * (2 * cdf - 1) + 2 * pdf - 1 / np.sqrt(np.pi))\n",
    "    return crps\n",
    "\n",
    "\n",
    "crps_scores = gaussian_crps(mu_preds, sigma_preds, y_true)\n",
    "mean_crps = np.mean(crps_scores)\n",
    "\n",
    "# 打印 RMSE 和 CRPS\n",
    "rmse = np.sqrt(mean_squared_error(y_true, mu_preds))\n",
    "print(f\"Test RMSE: {rmse:.4f}\")\n",
    "print(f\"Test CRPS: {mean_crps:.4f}\")\n"
   ]
  },
  {
   "cell_type": "code",
   "execution_count": 3,
   "metadata": {},
   "outputs": [
    {
     "name": "stderr",
     "output_type": "stream",
     "text": [
      "d:\\new_windows\\envs\\torch-py310-yxu\\lib\\site-packages\\tqdm\\auto.py:21: TqdmWarning: IProgress not found. Please update jupyter and ipywidgets. See https://ipywidgets.readthedocs.io/en/stable/user_install.html\n",
      "  from .autonotebook import tqdm as notebook_tqdm\n"
     ]
    },
    {
     "name": "stdout",
     "output_type": "stream",
     "text": [
      "[Train] Step 1/300, ELBO=-1158.428\n",
      "[Train] Step 50/300, ELBO=-885.721\n",
      "[Train] Step 100/300, ELBO=-581.776\n",
      "[Train] Step 150/300, ELBO=-179.290\n",
      "[Train] Step 200/300, ELBO=253.786\n",
      "[Train] Step 250/300, ELBO=922.358\n",
      "[Train] Step 300/300, ELBO=1800.391\n"
     ]
    },
    {
     "name": "stderr",
     "output_type": "stream",
     "text": [
      "2069it [02:19, 14.87it/s]\n",
      "2069it [02:19, 14.80it/s]\n",
      "2069it [02:17, 15.01it/s]\n"
     ]
    },
    {
     "ename": "RuntimeError",
     "evalue": "Expected all tensors to be on the same device, but found at least two devices, cuda:0 and cpu!",
     "output_type": "error",
     "traceback": [
      "\u001b[1;31m---------------------------------------------------------------------------\u001b[0m",
      "\u001b[1;31mRuntimeError\u001b[0m                              Traceback (most recent call last)",
      "Cell \u001b[1;32mIn[3], line 73\u001b[0m\n\u001b[0;32m     71\u001b[0m mu_pred, var_pred \u001b[38;5;241m=\u001b[39m predict_bnn(regions, u_params, g_phi, hyperparams, M\u001b[38;5;241m=\u001b[39margs\u001b[38;5;241m.\u001b[39mMC_num)\n\u001b[0;32m     72\u001b[0m sigmas \u001b[38;5;241m=\u001b[39m torch\u001b[38;5;241m.\u001b[39msqrt(var_pred)\n\u001b[1;32m---> 73\u001b[0m rmse, mean_crps \u001b[38;5;241m=\u001b[39m \u001b[43mcompute_metrics\u001b[49m\u001b[43m(\u001b[49m\u001b[43mmu_pred\u001b[49m\u001b[43m,\u001b[49m\u001b[43m \u001b[49m\u001b[43msigmas\u001b[49m\u001b[43m,\u001b[49m\u001b[43m \u001b[49m\u001b[43my_test\u001b[49m\u001b[43m)\u001b[49m\n\u001b[0;32m     74\u001b[0m train_time \u001b[38;5;241m=\u001b[39m time\u001b[38;5;241m.\u001b[39mtime() \u001b[38;5;241m-\u001b[39m start_time\n\u001b[0;32m     75\u001b[0m \u001b[38;5;28mprint\u001b[39m(\u001b[38;5;124mf\u001b[39m\u001b[38;5;124m\"\u001b[39m\u001b[38;5;124mFinal [RMSE, CRPS]: \u001b[39m\u001b[38;5;132;01m{\u001b[39;00m[rmse,\u001b[38;5;250m \u001b[39mmean_crps]\u001b[38;5;132;01m}\u001b[39;00m\u001b[38;5;124m\"\u001b[39m)\n",
      "File \u001b[1;32md:\\new_windows\\PhD\\spring2025\\park\\highJGP\\code\\JumpGP_test.py:318\u001b[0m, in \u001b[0;36mcompute_metrics\u001b[1;34m(predictions, sigmas, Y_test)\u001b[0m\n\u001b[0;32m    316\u001b[0m \u001b[38;5;250m\u001b[39m\u001b[38;5;124;03m\"\"\"Compute RMSE and mean CRPS for Gaussian predictive distributions.\"\"\"\u001b[39;00m\n\u001b[0;32m    317\u001b[0m \u001b[38;5;66;03m# 计算 RMSE\u001b[39;00m\n\u001b[1;32m--> 318\u001b[0m rmse \u001b[38;5;241m=\u001b[39m torch\u001b[38;5;241m.\u001b[39msqrt(torch\u001b[38;5;241m.\u001b[39mmean((\u001b[43mpredictions\u001b[49m\u001b[43m \u001b[49m\u001b[38;5;241;43m-\u001b[39;49m\u001b[43m \u001b[49m\u001b[43mY_test\u001b[49m)\u001b[38;5;241m*\u001b[39m\u001b[38;5;241m*\u001b[39m\u001b[38;5;241m2\u001b[39m))\n\u001b[0;32m    320\u001b[0m \u001b[38;5;66;03m# 计算 CRPS\u001b[39;00m\n\u001b[0;32m    321\u001b[0m \u001b[38;5;66;03m# z = (y - μ) / σ\u001b[39;00m\n\u001b[0;32m    322\u001b[0m z \u001b[38;5;241m=\u001b[39m (Y_test \u001b[38;5;241m-\u001b[39m predictions) \u001b[38;5;241m/\u001b[39m sigmas\n",
      "\u001b[1;31mRuntimeError\u001b[0m: Expected all tensors to be on the same device, but found at least two devices, cuda:0 and cpu!"
     ]
    }
   ],
   "source": [
    "from BNNJGP import *\n",
    "from argparse import Namespace\n",
    "device = torch.device('cuda' if torch.cuda.is_available() else 'cpu')\n",
    "args = Namespace(\n",
    "    epochs=100,           # 训练轮数\n",
    "    num_epochs=300,\n",
    "    batch_size=1024,\n",
    "    hidden_dim=2,\n",
    "    lr=0.01,\n",
    "    print_freq=10,        # 每多少个 epoch 打印一次信息\n",
    "    # save_path=\"./model\",  # 模型保存路径（可选）\n",
    "    Q = 2,\n",
    "    m1 = 2,\n",
    "    m2 = 40,\n",
    "    n = 20,\n",
    "    num_steps = 300,\n",
    "    MC_num = 3,\n",
    "    eval=True,            # 是否评估模型性能\n",
    "    patience=10,          # 提前停止的耐心轮数\n",
    "    clip_grad=1.0,        # 梯度裁剪（可选）\n",
    "    # 如果你的 train_model 用了更多字段，也可以在这里继续加\n",
    ")\n",
    "# neigh = find_neighborhoods(\n",
    "#     x_test.cpu(), x_train.cpu(), y_train.cpu(), M=args.n\n",
    "# )\n",
    "neigh = find_neighborhoods(\n",
    "    x_test, x_train, y_train, M=args.n\n",
    ")\n",
    "regions = []\n",
    "for i in range(len(neigh)):\n",
    "    nb = neigh[i]\n",
    "    regions.append({\n",
    "        'X':      nb['X_neighbors'].to(device),\n",
    "        'y':      nb['y_neighbors'].to(device),\n",
    "        'X_test': x_test[i].to(device),\n",
    "        'C':      torch.randn(args.m1, args.Q, device=device)\n",
    "    })\n",
    "\n",
    "# instantiate BNN feature net\n",
    "start_time = time.time()\n",
    "g_phi = BayesianFeatureNet(\n",
    "    input_dim=x_train.shape[1],\n",
    "    latent_dim=args.Q,\n",
    "    hidden_dims=(64,),\n",
    "    prior_sigma=1.0\n",
    ").to(device)\n",
    "\n",
    "# initialize u_params\n",
    "u_params = []\n",
    "for _ in regions:\n",
    "    u_params.append({\n",
    "        'm_u':     torch.zeros(args.m1, device=device, requires_grad=True),\n",
    "        'L_u':     torch.eye(args.m1, device=device, requires_grad=True),\n",
    "        'sigma_n': torch.tensor(0.5, device=device, requires_grad=True),\n",
    "        'sigma_k': torch.tensor(1.0, device=device, requires_grad=True),\n",
    "        'omega':   torch.randn(args.Q+1, device=device, requires_grad=True),\n",
    "        'U_logit': torch.tensor(0.0, device=device, requires_grad=True),\n",
    "    })\n",
    "\n",
    "hyperparams = {}\n",
    "\n",
    "# initial ELBO\n",
    "# elbo0 = compute_ELBO_bnn(regions, u_params, g_phi, hyperparams)\n",
    "# print(f\"Initial ELBO: {elbo0.item():.4f}\")\n",
    "\n",
    "# train\n",
    "train_bnn(regions, u_params, g_phi, hyperparams,\n",
    "            lr=args.lr, num_steps=args.num_steps, log_interval=50)\n",
    "\n",
    "# predict\n",
    "mu_pred, var_pred = predict_bnn(regions, u_params, g_phi, hyperparams, M=args.MC_num)\n",
    "sigmas = torch.sqrt(var_pred)\n",
    "rmse, mean_crps = compute_metrics(mu_pred, sigmas, y_test)\n",
    "train_time = time.time() - start_time\n",
    "print(f\"Final [RMSE, CRPS]: {[rmse, mean_crps]}\")"
   ]
  },
  {
   "cell_type": "code",
   "execution_count": 23,
   "metadata": {},
   "outputs": [
    {
     "data": {
      "text/plain": [
       "torch.Tensor"
      ]
     },
     "execution_count": 23,
     "metadata": {},
     "output_type": "execute_result"
    }
   ],
   "source": [
    "rmse, mean_crps = compute_metrics(mu_pred, sigmas, y_test)\n",
    "train_time = time.time() - start_time\n",
    "print(f\"Final [RMSE, CRPS]: {[rmse, mean_crps]}\")"
   ]
  },
  {
   "cell_type": "code",
   "execution_count": 8,
   "metadata": {},
   "outputs": [
    {
     "name": "stdout",
     "output_type": "stream",
     "text": [
      "Final [RMSE, CRPS]: [tensor(24.7024, device='cuda:0'), tensor(11.7676, device='cuda:0')]\n"
     ]
    }
   ],
   "source": [
    "y_test = y_test.to(device)\n",
    "rmse, mean_crps = compute_metrics(mu_pred, sigmas, y_test)\n",
    "train_time = time.time() - start_time\n",
    "print(f\"Final [RMSE, CRPS]: {[rmse, mean_crps]}\")"
   ]
  },
  {
   "cell_type": "code",
   "execution_count": 7,
   "metadata": {},
   "outputs": [
    {
     "data": {
      "text/plain": [
       "(device(type='cuda', index=0),\n",
       " device(type='cuda', index=0),\n",
       " device(type='cpu'))"
      ]
     },
     "execution_count": 7,
     "metadata": {},
     "output_type": "execute_result"
    }
   ],
   "source": [
    "mu_pred.device,sigmas.device,y_test.device"
   ]
  },
  {
   "cell_type": "code",
   "execution_count": 20,
   "metadata": {},
   "outputs": [
    {
     "data": {
      "image/png": "[encoded data removed]",
      "text/plain": [
       "<Figure size 1200x600 with 2 Axes>"
      ]
     },
     "metadata": {},
     "output_type": "display_data"
    }
   ],
   "source": [
    "import matplotlib.pyplot as plt\n",
    "\n",
    "# 数据\n",
    "djgp_rmse = [13.2899, 13.0512, 13.2085, 13.2311, 13.5284, 15.0108, 14.6295, 13.7968, 14.1178, 13.8927, 13.0948]\n",
    "djgp_crps = [5.5383, 5.0765, 5.3965, 5.3854, 5.6447, 6.0607, 5.8466, 5.5386, 5.8746, 5.6423, 5.5056]\n",
    "\n",
    "# 其它方法的单值\n",
    "jgp_rmse = 14.709\n",
    "jgp_crps = 4.8425\n",
    "\n",
    "tgp_rmse = 15.0792\n",
    "tgp_crps = 10.6852\n",
    "\n",
    "dgp_rmse = 18.24733543\n",
    "dgp_crps = 15.59500027\n",
    "\n",
    "# 颜色设置\n",
    "colors = {\n",
    "    'JGP': 'tab:red',\n",
    "    'TGP': 'tab:green',\n",
    "    'DGP': 'tab:blue'\n",
    "}\n",
    "\n",
    "# 创建子图\n",
    "fig, axes = plt.subplots(1, 2, figsize=(12, 6))\n",
    "\n",
    "# 左图：RMSE 箱线图 + 横线\n",
    "axes[0].boxplot(djgp_rmse)\n",
    "axes[0].axhline(jgp_rmse, color=colors['JGP'], linestyle='--', linewidth=2, label='JGP')\n",
    "axes[0].axhline(tgp_rmse, color=colors['TGP'], linestyle='-.', linewidth=2, label='TGP')\n",
    "axes[0].axhline(dgp_rmse, color=colors['DGP'], linestyle=':', linewidth=2, label='DGP')\n",
    "axes[0].set_title('RMSE Comparison')\n",
    "axes[0].set_ylabel('RMSE')\n",
    "axes[0].set_xticks([1])\n",
    "axes[0].set_xticklabels(['DJGP'])\n",
    "axes[0].legend()\n",
    "\n",
    "# 右图：CRPS 箱线图 + 横线\n",
    "axes[1].boxplot(djgp_crps)\n",
    "axes[1].axhline(jgp_crps, color=colors['JGP'], linestyle='--', linewidth=2, label='JGP')\n",
    "axes[1].axhline(tgp_crps, color=colors['TGP'], linestyle='-.', linewidth=2, label='TGP')\n",
    "axes[1].axhline(dgp_crps, color=colors['DGP'], linestyle=':', linewidth=2, label='DGP')\n",
    "axes[1].set_title('CRPS Comparison')\n",
    "axes[1].set_ylabel('CRPS')\n",
    "axes[1].set_xticks([1])\n",
    "axes[1].set_xticklabels(['DJGP'])\n",
    "axes[1].legend()\n",
    "\n",
    "plt.tight_layout()\n",
    "plt.show()\n"
   ]
  },
  {
   "cell_type": "markdown",
   "metadata": {},
   "source": [
    "Gaussian process regression could be useful for surrogate modeling with uncertainty quantification and has good performance with few data. Jump gaussian process could be used to estimate an unknown piecewise continuous regression function, which is a local GP estimate of an unknown regression function at each test location while partitions the local data into pieces by a local data partitioning function. However, when it comes to higher dimensional inputs, the neighborhood could be sparse and the partitioning function could also be poor. Thus,  We developed a method called Locally mahalanobis Jump gaussian process (LMJGP) modeling to further estimate an unknown piecewise continuous regression function with high dimensional inputs. Based on deep mahalanobis gaussian process, we use global information for the dimensionality reduction. But for one neighborhood, we use the projection matrix of the test points as the approximation of the neighborhood dimensionality reduction, thus it’s still a local GP but utilize global information. Our experiments show promising results.\n",
    "\n",
    "Gaussian process regression (GPR) is a powerful surrogate‐modeling tool that delivers principled uncertainty quantification and often excels in data‐scarce regimes. The Jump Gaussian Process (JGP) extends GPR to piecewise‐continuous targets by partitioning each local neighborhood into subregions and fitting independent GPs on those pieces. Yet in high‐dimensional settings, neighborhoods become sparse and simple partitioning rules break down, degrading both accuracy and confidence estimates.\n",
    "To address this, we introduce the Locally Mahalanobis Jump Gaussian Process (LMJGP)—a model that learns both a global embedding and its local “jump” GP partitions via variational inference. Concretely, we posit a deep Mahalanobis GP that projects every input into a low-dimensional latent space; simultaneously, we embed a JGP likelihood term so that the projection and the jumpGP parameters are optimized jointly. LMJGP marries the strengths of a global dimension-reduction step—learned via a deep Mahalanobis GP—to identify a low-dimensional embedding, with a local JGP structure around each test point. Concretely, we first train a global projection that captures the most informative subspace of the inputs. Then, for each test location, we use its projection matrix to define a reduced-dimensional neighborhood, on which we perform the usual “jump” partitioning and local GP fitting. Noticeably, we use one projection matrix in one neighborhood, which means that we approximate the learned non-linear embedding by its locally linear map at each test point.. This hybrid strategy preserves the adaptability of local GPs while leveraging global structure to combat sparsity in high dimensions.\n",
    "Our experiments show promising results compared with JGP, standard GPR with SIR and deep gaussian process.\n"
   ]
  },
  {
   "cell_type": "code",
   "execution_count": 1,
   "metadata": {},
   "outputs": [
    {
     "name": "stdout",
     "output_type": "stream",
     "text": [
      "X shape: (506, 13)\n",
      "y shape: (506,)\n"
     ]
    }
   ],
   "source": [
    "import pandas as pd\n",
    "import numpy as np\n",
    "\n",
    "# 1. 下载原始文本\n",
    "url = \"http://lib.stat.cmu.edu/datasets/boston\"\n",
    "raw_df = pd.read_csv(url, sep=\"\\s+\", skiprows=22, header=None)\n",
    "\n",
    "# 2. 数据在奇偶行中交错存储，需要拼接\n",
    "#    前半部分是特征，后半部分第 2 列开始是 target\n",
    "data = np.hstack([ raw_df.values[::2, :],   # 奇数行所有列\n",
    "                   raw_df.values[1::2, :2] ])  # 偶数行前两列\n",
    "target = raw_df.values[1::2, 2]              # 偶数行第 3 列\n",
    "\n",
    "print(\"X shape:\", data.shape)  # 应该是 (506, 13)\n",
    "print(\"y shape:\", target.shape)\n"
   ]
  },
  {
   "cell_type": "code",
   "execution_count": 2,
   "metadata": {},
   "outputs": [
    {
     "name": "stdout",
     "output_type": "stream",
     "text": [
      "X_train: torch.Size([404, 13])\n",
      "y_train: torch.Size([404])\n",
      "X_test:  torch.Size([102, 13])\n",
      "y_test:  torch.Size([102])\n"
     ]
    }
   ],
   "source": [
    "import pandas as pd\n",
    "import numpy as np\n",
    "import torch\n",
    "\n",
    "# 3. 随机打乱并切分 80% 训练 / 20% 测试\n",
    "np.random.seed(0)\n",
    "indices = np.random.permutation(data.shape[0])\n",
    "split = int(data.shape[0] * 0.8)\n",
    "\n",
    "train_idx, test_idx = indices[:split], indices[split:]\n",
    "X_train_np, X_test_np = data[train_idx], data[test_idx]\n",
    "y_train_np, y_test_np = target[train_idx], target[test_idx]\n",
    "\n",
    "# 4. 转为 torch.Tensor\n",
    "X_train = torch.from_numpy(X_train_np).float()\n",
    "Y_train = torch.from_numpy(y_train_np).float()\n",
    "X_test  = torch.from_numpy(X_test_np).float()\n",
    "Y_test  = torch.from_numpy(y_test_np).float()\n",
    "\n",
    "# 输出形状验证\n",
    "print(\"X_train:\", X_train.shape)\n",
    "print(\"y_train:\", Y_train.shape)\n",
    "print(\"X_test: \", X_test.shape)\n",
    "print(\"y_test: \", Y_test.shape)"
   ]
  },
  {
   "cell_type": "code",
   "execution_count": 19,
   "metadata": {},
   "outputs": [
    {
     "data": {
      "text/plain": [
       "'Boston'"
      ]
     },
     "execution_count": 19,
     "metadata": {},
     "output_type": "execute_result"
    },
    {
     "ename": "",
     "evalue": "",
     "output_type": "error",
     "traceback": [
      "\u001b[1;31mThe Kernel crashed while executing code in the current cell or a previous cell. \n",
      "\u001b[1;31mPlease review the code in the cell(s) to identify a possible cause of the failure. \n",
      "\u001b[1;31mClick <a href='https://aka.ms/vscodeJupyterKernelCrash'>here</a> for more info. \n",
      "\u001b[1;31mView Jupyter <a href='command:jupyter.viewOutput'>log</a> for further details."
     ]
    }
   ],
   "source": [
    "data = {\"X_train\": X_train, \"Y_train\": Y_train, \"X_test\": X_test, \"Y_test\": Y_test}\n",
    "from data_generate import save_dataset\n",
    "save_dataset(data, args, folder_name=\"Boston\")\n"
   ]
  },
  {
   "cell_type": "code",
   "execution_count": 18,
   "metadata": {},
   "outputs": [
    {
     "name": "stdout",
     "output_type": "stream",
     "text": [
      "Everything set!\n",
      "[Step 1/500] ELBO=-7745.0896, LR=1.00e-02\n",
      "[Step 50/500] ELBO=-3412.8626, LR=1.00e-02\n",
      "[Step 100/500] ELBO=-889.3250, LR=1.00e-02\n",
      "[Step 150/500] ELBO=-561.9528, LR=1.00e-02\n",
      "[Step 200/500] ELBO=-302.2832, LR=1.00e-02\n",
      "[Step 250/500] ELBO=-127.3050, LR=1.00e-02\n",
      "[Step 300/500] ELBO=-57.3284, LR=1.00e-02\n",
      "[Step 350/500] ELBO=-20.2436, LR=1.00e-02\n",
      "[Step 400/500] ELBO=-5.9729, LR=1.00e-02\n",
      "[Step 450/500] ELBO=-2.8925, LR=1.00e-02\n",
      "[Step 500/500] ELBO=-2.5050, LR=1.00e-02\n",
      "train OK\n"
     ]
    },
    {
     "name": "stderr",
     "output_type": "stream",
     "text": [
      "102it [00:12,  8.16it/s]\n",
      "102it [00:13,  7.53it/s]\n",
      "102it [00:15,  6.60it/s]"
     ]
    },
    {
     "name": "stdout",
     "output_type": "stream",
     "text": [
      "Prediction OK\n",
      "Results [rmse, mean crps, runtime]:[tensor(6.3670, device='cuda:0'), tensor(2.9555, device='cuda:0')]\n"
     ]
    },
    {
     "name": "stderr",
     "output_type": "stream",
     "text": [
      "\n"
     ]
    }
   ],
   "source": [
    "from DJGP_test import *\n",
    "from argparse import Namespace\n",
    "args = Namespace(\n",
    "    epochs=100,           # 训练轮数\n",
    "    num_epochs=300,\n",
    "    batch_size=1024,\n",
    "    hidden_dim=2,\n",
    "    lr=0.01,\n",
    "    print_freq=10,        # 每多少个 epoch 打印一次信息\n",
    "    # save_path=\"./model\",  # 模型保存路径（可选）\n",
    "    Q = 3,\n",
    "    m1 = 2,\n",
    "    m2 = 20,\n",
    "    n = 20,\n",
    "    num_steps = 500,\n",
    "    MC_num = 3,\n",
    "    eval=True,            # 是否评估模型性能\n",
    "    patience=10,          # 提前停止的耐心轮数\n",
    "    clip_grad=1.0,        # 梯度裁剪（可选）\n",
    "    # 如果你的 train_model 用了更多字段，也可以在这里继续加\n",
    ")\n",
    "device = torch.device('cuda' if torch.cuda.is_available() else 'cpu')\n",
    "X_train = X_train.float().to(device)\n",
    "Y_train = Y_train.float().squeeze(-1).to(device)\n",
    "X_test = X_test.float().to(device)\n",
    "Y_test = Y_test.float().squeeze(-1).to(device)\n",
    "\n",
    "N_test, D = X_test.shape\n",
    "T         = N_test\n",
    "Q         = args.Q\n",
    "m1        = args.m1\n",
    "m2        = args.m2\n",
    "n         = args.n\n",
    "num_steps = args.num_steps\n",
    "MC_num    = args.MC_num\n",
    "\n",
    "# 4. Build neighborhoods (on CPU) then move to GPU\n",
    "neighborhoods = find_neighborhoods(\n",
    "    X_test.cpu(), X_train.cpu(), Y_train.cpu(), M=n\n",
    ")\n",
    "regions = []\n",
    "start_time = time.time()\n",
    "for i in range(T):\n",
    "    X_nb = neighborhoods[i]['X_neighbors'].to(device)  # (n, D)\n",
    "    y_nb = neighborhoods[i]['y_neighbors'].to(device)  # (n,)\n",
    "    regions.append({\n",
    "        'X': X_nb,\n",
    "        'y': y_nb,\n",
    "        'C': torch.randn(m1, Q, device=device)       # random init\n",
    "    })\n",
    "\n",
    "# 5. Initialize V_params on GPU\n",
    "V_params = {\n",
    "    'mu_V':    torch.randn(m2, Q, D, device=device, requires_grad=True),\n",
    "    'sigma_V': torch.rand( m2, Q, D, device=device, requires_grad=True),\n",
    "}\n",
    "\n",
    "# 6. Initialize u_params on GPU\n",
    "u_params = []\n",
    "for _ in range(T):\n",
    "    u_params.append({\n",
    "        'U_logit':    torch.zeros(1, device=device, requires_grad=True),\n",
    "        'mu_u':       torch.randn(m1, device=device, requires_grad=True),\n",
    "        'Sigma_u':    torch.eye(m1, device=device, requires_grad=True),\n",
    "        'sigma_noise':torch.tensor(0.5, device=device, requires_grad=True),\n",
    "        'sigma_k':torch.tensor(0.5, device=device, requires_grad=True),\n",
    "        'omega':      torch.randn(Q+1, device=device, requires_grad=True),\n",
    "    })\n",
    "\n",
    "# 7. Initialize hyperparams on GPU\n",
    "X_train_mean = X_train.mean(dim=0)\n",
    "X_train_std  = X_train.std(dim=0)\n",
    "Z = X_train_mean + torch.randn(m2, D, device=device) * X_train_std\n",
    "\n",
    "hyperparams = {\n",
    "    'Z':            Z,                      # (m2, D)\n",
    "    'X_test':       X_test,                 # (T, D)\n",
    "    'lengthscales':torch.rand(Q, device=device, requires_grad=True),\n",
    "    'var_w':        torch.tensor(1.0, device=device, requires_grad=True),\n",
    "}\n",
    "\n",
    "print(\"Everything set!\")\n",
    "\n",
    "# 8. Compute ELBO, backprop, train, predict\n",
    "# L = compute_ELBO(regions, V_params, u_params, hyperparams)\n",
    "# print(\"ELBO L =\", L.item())\n",
    "# L.backward()\n",
    "# print(\"Gradients OK\")\n",
    "\n",
    "V_params, u_params, hyperparams = train_vi(\n",
    "    regions=regions,\n",
    "    V_params=V_params,\n",
    "    u_params=u_params,\n",
    "    hyperparams=hyperparams,\n",
    "    lr=args.lr,\n",
    "    num_steps=num_steps,\n",
    "    log_interval=50\n",
    ")\n",
    "print(\"train OK\")\n",
    "\n",
    "mu_pred, var_pred = predict_vi(\n",
    "    regions, V_params, hyperparams, M=MC_num\n",
    ")\n",
    "print(\"Prediction OK\")\n",
    "# print(\"mu_pred:\", mu_pred.shape)\n",
    "# print(\"var_pred:\", var_pred.shape)\n",
    "\n",
    "# 9. Compute metrics & runtime\n",
    "run_time = time.time() - start_time\n",
    "# rmse, q25, q50, q75 = compute_metrics(mu_pred, var_pred, Y_test)\n",
    "# print(\"Results [rmse, 25%, 50%, 75%, runtime]:\")\n",
    "# print([rmse, q25, q50, q75, run_time])\n",
    "\n",
    "# return [rmse, q25, q50, q75, run_time]\n",
    "sigmas = torch.sqrt(var_pred)\n",
    "rmse, mean_crps = compute_metrics(mu_pred, sigmas, Y_test)\n",
    "print(f\"Results [rmse, mean crps, runtime]:{[rmse, mean_crps]}\")"
   ]
  },
  {
   "cell_type": "code",
   "execution_count": 6,
   "metadata": {},
   "outputs": [
    {
     "name": "stderr",
     "output_type": "stream",
     "text": [
      "Epoch: 100%|██████████| 300/300 [00:39<00:00,  7.63it/s, crps=14.9504, loss=39.1031, rmse=18.9561] \n"
     ]
    },
    {
     "data": {
      "text/plain": [
       "{'rmse': 18.9560546875,\n",
       " 'crps': 14.950444221496582,\n",
       " 'run_time': 39.29376149177551}"
      ]
     },
     "execution_count": 6,
     "metadata": {},
     "output_type": "execute_result"
    }
   ],
   "source": [
    "from DeepGP_test import *\n",
    "\n",
    "from argparse import Namespace\n",
    "\n",
    "args = Namespace(\n",
    "    epochs=100,           # 训练轮数\n",
    "    num_epochs=300,\n",
    "    batch_size=64,\n",
    "    hidden_dim=5,\n",
    "    lr=0.01,\n",
    "    print_freq=10,        # 每多少个 epoch 打印一次信息\n",
    "    # save_path=\"./model\",  # 模型保存路径（可选）\n",
    "    eval=True,            # 是否评估模型性能\n",
    "    patience=30,          # 提前停止的耐心轮数\n",
    "    clip_grad=1.0,        # 梯度裁剪（可选）\n",
    "    # 如果你的 train_model 用了更多字段，也可以在这里继续加\n",
    ")\n",
    "\n",
    "# X_train = X_train.float().to(device)\n",
    "# Y_train = Y_train.float().squeeze(-1).to(device)\n",
    "# X_test = X_test.float().to(device)\n",
    "# Y_test = Y_test.float().squeeze(-1).to(device)\n",
    "\n",
    "# 创建数据加载器\n",
    "batch_size, hidden_dim, lr = 128, 2, 0.01\n",
    "train_dataset = TensorDataset(X_train, Y_train)\n",
    "test_dataset = TensorDataset(X_test, Y_test)\n",
    "train_loader = DataLoader(train_dataset, batch_size=batch_size, shuffle=True)\n",
    "test_loader = DataLoader(test_dataset, batch_size=batch_size)\n",
    "\n",
    "# 初始化模型\n",
    "model = DeepGP(X_train.shape, hidden_dim).to(device)\n",
    "\n",
    "# 初始化优化器和损失函数\n",
    "optimizer = torch.optim.Adam([{'params': model.parameters()}], lr=lr)\n",
    "mll = DeepApproximateMLL(VariationalELBO(model.likelihood, model, X_train.shape[-2]))\n",
    "\n",
    "# 训练模型\n",
    "final_metrics = train_model(model, train_loader, test_loader, optimizer, mll, args)\n",
    "final_metrics"
   ]
  },
  {
   "cell_type": "code",
   "execution_count": 7,
   "metadata": {},
   "outputs": [
    {
     "data": {
      "text/plain": [
       "(torch.Size([404, 13]),\n",
       " torch.Size([404]),\n",
       " torch.Size([102, 13]),\n",
       " torch.Size([102]))"
      ]
     },
     "execution_count": 7,
     "metadata": {},
     "output_type": "execute_result"
    }
   ],
   "source": [
    "X_train.shape, Y_train.shape, X_test.shape, Y_test.shape"
   ]
  },
  {
   "cell_type": "code",
   "execution_count": 14,
   "metadata": {},
   "outputs": [
    {
     "name": "stderr",
     "output_type": "stream",
     "text": [
      "C:\\Users\\23740\\AppData\\Local\\Temp\\ipykernel_38288\\2626648191.py:2: UserWarning: To copy construct from a tensor, it is recommended to use sourceTensor.detach().clone() or sourceTensor.detach().clone().requires_grad_(True), rather than torch.tensor(sourceTensor).\n",
      "  x_train = torch.tensor(X_train, dtype=torch.float32).to(device)\n",
      "C:\\Users\\23740\\AppData\\Local\\Temp\\ipykernel_38288\\2626648191.py:3: UserWarning: To copy construct from a tensor, it is recommended to use sourceTensor.detach().clone() or sourceTensor.detach().clone().requires_grad_(True), rather than torch.tensor(sourceTensor).\n",
      "  x_test = torch.tensor(X_test, dtype=torch.float32).to(device)\n",
      "C:\\Users\\23740\\AppData\\Local\\Temp\\ipykernel_38288\\2626648191.py:4: UserWarning: To copy construct from a tensor, it is recommended to use sourceTensor.detach().clone() or sourceTensor.detach().clone().requires_grad_(True), rather than torch.tensor(sourceTensor).\n",
      "  y_train = torch.tensor(Y_train, dtype=torch.float32).to(device)\n",
      "C:\\Users\\23740\\AppData\\Local\\Temp\\ipykernel_38288\\2626648191.py:5: UserWarning: To copy construct from a tensor, it is recommended to use sourceTensor.detach().clone() or sourceTensor.detach().clone().requires_grad_(True), rather than torch.tensor(sourceTensor).\n",
      "  y_test = torch.tensor(Y_test, dtype=torch.float32).to(device)\n"
     ]
    }
   ],
   "source": [
    "device = 'cpu'\n",
    "x_train = torch.tensor(X_train, dtype=torch.float32).to(device)\n",
    "x_test = torch.tensor(X_test, dtype=torch.float32).to(device)   \n",
    "y_train = torch.tensor(Y_train, dtype=torch.float32).to(device)\n",
    "y_test = torch.tensor(Y_test, dtype=torch.float32).to(device)"
   ]
  },
  {
   "cell_type": "code",
   "execution_count": 15,
   "metadata": {},
   "outputs": [
    {
     "name": "stderr",
     "output_type": "stream",
     "text": [
      "100%|██████████| 102/102 [00:39<00:00,  2.60it/s]\n"
     ]
    },
    {
     "data": {
      "text/plain": [
       "[tensor(5.4636), tensor(2.8586), 39.30130076408386]"
      ]
     },
     "execution_count": 15,
     "metadata": {},
     "output_type": "execute_result"
    }
   ],
   "source": [
    "from JumpGP_test import *\n",
    "\n",
    "M = 20\n",
    "neighborhoods = find_neighborhoods(x_test, x_train, y_train, M)\n",
    "# device = torch.device('cuda' if torch.cuda.is_available() else 'cpu')\n",
    "device = 'cpu'\n",
    "result = evaluate_jumpgp(x_test, y_test, neighborhoods, device)\n",
    "result"
   ]
  },
  {
   "cell_type": "code",
   "execution_count": 11,
   "metadata": {},
   "outputs": [
    {
     "name": "stdout",
     "output_type": "stream",
     "text": [
      "dict_keys(['__header__', '__version__', '__globals__', 'mse', 'nlpd', 'pred', 'pred_var', 'rmse', 'x_AL', 'xc', 'xt', 'y_AL', 'yc', 'yt'])\n"
     ]
    }
   ],
   "source": [
    "from scipy.io import loadmat\n",
    "\n",
    "# 加载 .mat 文件\n",
    "data = loadmat('result_OHT_4d')\n",
    "\n",
    "# 查看文件中有哪些变量\n",
    "print(data.keys())\n",
    "\n",
    "X_train = data['xc']\n",
    "Y_train = data['yc']\n",
    "X_test = data['xt']\n",
    "Y_test = data['yt']"
   ]
  },
  {
   "cell_type": "code",
   "execution_count": 12,
   "metadata": {},
   "outputs": [
    {
     "data": {
      "text/plain": [
       "((6280, 4), (6280, 1), (2069, 4), (2069, 1))"
      ]
     },
     "execution_count": 12,
     "metadata": {},
     "output_type": "execute_result"
    }
   ],
   "source": [
    "X_train.shape, Y_train.shape, X_test.shape, Y_test.shape"
   ]
  },
  {
   "cell_type": "code",
   "execution_count": 13,
   "metadata": {},
   "outputs": [],
   "source": [
    "from sklearn.cluster import KMeans\n",
    "import numpy as np\n",
    "\n",
    "def select_representative_points(X_train, Y_train, M, random_state=0):\n",
    "    \"\"\"\n",
    "    使用 KMeans 从 X_train 中选择最具代表性的 M 个点\n",
    "    \n",
    "    参数:\n",
    "        X_train: ndarray, shape (N, d) 输入特征\n",
    "        Y_train: ndarray, shape (N, 1) 目标变量\n",
    "        M: int，代表性点的数量\n",
    "        random_state: int，用于 KMeans 的随机种子\n",
    "\n",
    "    返回:\n",
    "        X_selected: ndarray, shape (M, d) 被选中的代表点\n",
    "        Y_selected: ndarray, shape (M, 1) 对应的标签\n",
    "        selected_indices: list, 在 X_train 中选中点的索引\n",
    "    \"\"\"\n",
    "    kmeans = KMeans(n_clusters=M, random_state=random_state)\n",
    "    kmeans.fit(X_train)\n",
    "    \n",
    "    # 找每个聚类中心最近的点\n",
    "    centers = kmeans.cluster_centers_\n",
    "    labels = kmeans.labels_\n",
    "    \n",
    "    selected_indices = []\n",
    "    for i in range(M):\n",
    "        cluster_points_idx = np.where(labels == i)[0]\n",
    "        cluster_points = X_train[cluster_points_idx]\n",
    "        dists = np.linalg.norm(cluster_points - centers[i], axis=1)\n",
    "        closest_idx_in_cluster = cluster_points_idx[np.argmin(dists)]\n",
    "        selected_indices.append(closest_idx_in_cluster)\n",
    "    \n",
    "    X_selected = X_train[selected_indices]\n",
    "    Y_selected = Y_train[selected_indices]\n",
    "    \n",
    "    return X_selected, Y_selected, selected_indices\n"
   ]
  },
  {
   "cell_type": "code",
   "execution_count": 15,
   "metadata": {},
   "outputs": [
    {
     "name": "stdout",
     "output_type": "stream",
     "text": [
      "代表性点索引: [np.int64(6026), np.int64(3782), np.int64(5522), np.int64(1771), np.int64(6089), np.int64(3792), np.int64(770), np.int64(2256), np.int64(1790), np.int64(1343), np.int64(4531), np.int64(196), np.int64(5397), np.int64(257), np.int64(5927), np.int64(678), np.int64(4865), np.int64(4498), np.int64(4288), np.int64(4282), np.int64(2258), np.int64(1434), np.int64(3598), np.int64(4305), np.int64(2731), np.int64(4429), np.int64(5845), np.int64(4388), np.int64(3580), np.int64(2503), np.int64(3947), np.int64(1951), np.int64(5040), np.int64(2180), np.int64(3620), np.int64(4400), np.int64(3990), np.int64(3111), np.int64(5545), np.int64(5116), np.int64(5690), np.int64(455), np.int64(5862), np.int64(763), np.int64(4103), np.int64(1594), np.int64(2029), np.int64(202), np.int64(4818), np.int64(3810), np.int64(2067), np.int64(220), np.int64(60), np.int64(4041), np.int64(2333), np.int64(3432), np.int64(496), np.int64(1367), np.int64(1680), np.int64(2147), np.int64(4877), np.int64(1258), np.int64(3848), np.int64(5730), np.int64(4252), np.int64(5331), np.int64(3044), np.int64(1487), np.int64(1520), np.int64(3999), np.int64(1821), np.int64(4598), np.int64(2719), np.int64(1267), np.int64(1918), np.int64(3881), np.int64(6218), np.int64(2271), np.int64(592), np.int64(4349), np.int64(1699), np.int64(2099), np.int64(538), np.int64(281), np.int64(2862), np.int64(4219), np.int64(4237), np.int64(2083), np.int64(5108), np.int64(3892), np.int64(4556), np.int64(472), np.int64(4070), np.int64(2440), np.int64(5465), np.int64(497), np.int64(1813), np.int64(329), np.int64(2452), np.int64(3915)]\n"
     ]
    }
   ],
   "source": [
    "import os\n",
    "os.environ[\"LOKY_MAX_CPU_COUNT\"] = \"8\"  # 假设你想设置为 8 核\n",
    "\n",
    "\n",
    "X_selected, Y_selected, indices = select_representative_points(X_train, Y_train, M=100)\n",
    "print(\"代表性点索引:\", indices)\n"
   ]
  },
  {
   "cell_type": "code",
   "execution_count": 17,
   "metadata": {},
   "outputs": [
    {
     "data": {
      "text/plain": [
       "100"
      ]
     },
     "execution_count": 17,
     "metadata": {},
     "output_type": "execute_result"
    }
   ],
   "source": [
    "len(indices)"
   ]
  },
  {
   "cell_type": "code",
   "execution_count": 40,
   "metadata": {},
   "outputs": [
    {
     "data": {
      "text/plain": [
       "[{'M_selected': 100,\n",
       "  'LMJGP': [tensor(16.0677, device='cuda:0', dtype=torch.float64),\n",
       "   tensor(8.1314, device='cuda:0', dtype=torch.float64),\n",
       "   678.4410865306854],\n",
       "  'res_jgp': [[tensor(12.9363), tensor(4.3436), 197.49625253677368]],\n",
       "  'res_dgp': {'rmse': 11.446676254272461,\n",
       "   'crps': 4.6670355796813965,\n",
       "   'run_time': 143.79290795326233}},\n",
       " {'M_selected': 200,\n",
       "  'LMJGP': [tensor(16.0676, device='cuda:0', dtype=torch.float64),\n",
       "   tensor(8.2163, device='cuda:0', dtype=torch.float64),\n",
       "   827.2875220775604],\n",
       "  'res_jgp': [[tensor(12.0818), tensor(3.7615), 259.3874249458313]],\n",
       "  'res_dgp': {'rmse': 10.486211776733398,\n",
       "   'crps': 4.204740524291992,\n",
       "   'run_time': 118.04408693313599}},\n",
       " {'M_selected': 500,\n",
       "  'LMJGP': [tensor(17.3587, device='cuda:0', dtype=torch.float64),\n",
       "   tensor(8.8931, device='cuda:0', dtype=torch.float64),\n",
       "   610.8868947029114],\n",
       "  'res_jgp': [[tensor(11.3541), tensor(3.3922), 240.43530130386353]],\n",
       "  'res_dgp': {'rmse': 9.244988441467285,\n",
       "   'crps': 3.2440361976623535,\n",
       "   'run_time': 227.58618354797363}},\n",
       " {'M_selected': 1000,\n",
       "  'LMJGP': [tensor(17.4171, device='cuda:0', dtype=torch.float64),\n",
       "   tensor(9.0678, device='cuda:0', dtype=torch.float64),\n",
       "   536.8406512737274],\n",
       "  'res_jgp': [[tensor(10.3503), tensor(2.8284), 222.52718782424927]],\n",
       "  'res_dgp': {'rmse': 6.264583587646484,\n",
       "   'crps': 2.3746814727783203,\n",
       "   'run_time': 137.646062374115}},\n",
       " {'M_selected': 2000,\n",
       "  'LMJGP': [tensor(18.3213, device='cuda:0', dtype=torch.float64),\n",
       "   tensor(9.4939, device='cuda:0', dtype=torch.float64),\n",
       "   699.1378841400146],\n",
       "  'res_jgp': [[tensor(11.5515), tensor(3.0851), 209.90648698806763]],\n",
       "  'res_dgp': {'rmse': 5.546614646911621,\n",
       "   'crps': 2.0974323749542236,\n",
       "   'run_time': 187.40995144844055}}]"
      ]
     },
     "execution_count": 40,
     "metadata": {},
     "output_type": "execute_result"
    }
   ],
   "source": [
    "import pickle\n",
    "\n",
    "# 保存\n",
    "# with open(\"res_OHTDataset.pkl\", \"wb\") as f:\n",
    "#     pickle.dump(results, f)\n",
    "\n",
    "# # 加载\n",
    "with open(\"res_OHTDataset.pkl\", \"rb\") as f:\n",
    "    loaded_list = pickle.load(f)\n",
    "\n",
    "with open(\"OHTDataset\\\\fulltest\\\\res_OHTDataset.pkl\", \"rb\") as f:\n",
    "    loaded_list1 = pickle.load(f)\n",
    "\n",
    "for i in range(len(loaded_list1)):\n",
    "    x = loaded_list1[i]\n",
    "    x0 = loaded_list[i]\n",
    "    for key,value in x.items():\n",
    "        if key not in x0:\n",
    "            x0[key] = value\n",
    "\n",
    "loaded_list"
   ]
  },
  {
   "cell_type": "code",
   "execution_count": 42,
   "metadata": {},
   "outputs": [
    {
     "data": {
      "image/png": "[encoded data removed]",
      "text/plain": [
       "<Figure size 1000x600 with 3 Axes>"
      ]
     },
     "metadata": {},
     "output_type": "display_data"
    }
   ],
   "source": [
    "import matplotlib.pyplot as plt\n",
    "import numpy as np\n",
    "\n",
    "# 你的数据\n",
    "data = loaded_list\n",
    "\n",
    "M_values = [entry['M_selected'] for entry in data]\n",
    "\n",
    "# DGP 指标\n",
    "rmse_dgp = [entry['res_dgp']['rmse'] for entry in data]\n",
    "crps_dgp = [entry['res_dgp']['crps'] for entry in data]\n",
    "time_dgp = [entry['res_dgp']['run_time'] for entry in data]\n",
    "\n",
    "# JGP 指标（只提取那个唯一的结果）\n",
    "def to_float(x):\n",
    "    return x.item() if hasattr(x, 'item') else x\n",
    "\n",
    "rmse_jgp = [to_float(entry['res_jgp'][0][0]) for entry in data]\n",
    "crps_jgp = [to_float(entry['res_jgp'][0][1]) for entry in data]\n",
    "time_jgp = [to_float(entry['res_jgp'][0][2]) for entry in data]\n",
    "\n",
    "rmse_lmjgp = [to_float(entry['LMJGP'][0]) for entry in data]\n",
    "crps_lmjgp = [to_float(entry['LMJGP'][1]) for entry in data]\n",
    "time_lmjgp = [to_float(entry['LMJGP'][2]) for entry in data]\n",
    "\n",
    "# ----------- 绘图 ------------------\n",
    "\n",
    "plt.figure(figsize=(10, 6))\n",
    "\n",
    "# 1. RMSE\n",
    "plt.subplot(3, 1, 1)\n",
    "plt.plot(M_values, rmse_dgp, label=\"DGP RMSE\", marker='o')\n",
    "plt.plot(M_values, rmse_jgp, label=\"JGP RMSE\", marker='x')\n",
    "plt.plot(M_values, rmse_lmjgp, label=\"LMJGP RMSE\", marker='+')\n",
    "plt.ylabel(\"RMSE\")\n",
    "plt.legend()\n",
    "plt.grid(True)\n",
    "\n",
    "# 2. CRPS\n",
    "plt.subplot(3, 1, 2)\n",
    "plt.plot(M_values, crps_dgp, label=\"DGP CRPS\", marker='o')\n",
    "plt.plot(M_values, crps_jgp, label=\"JGP CRPS\", marker='x')\n",
    "plt.plot(M_values, crps_lmjgp, label=\"LMJGP CRPS\", marker='+')\n",
    "plt.ylabel(\"CRPS\")\n",
    "plt.legend()\n",
    "plt.grid(True)\n",
    "\n",
    "# 3. Run Time\n",
    "plt.subplot(3, 1, 3)\n",
    "plt.plot(M_values, time_dgp, label=\"DGP Time\", marker='o')\n",
    "plt.plot(M_values, time_jgp, label=\"JGP Time\", marker='x')  \n",
    "plt.plot(M_values, time_lmjgp, label=\"LMJGP Time\", marker='+')\n",
    "plt.xlabel(\"M_selected\")\n",
    "plt.ylabel(\"Time (s)\")\n",
    "plt.legend()\n",
    "plt.grid(True)\n",
    "\n",
    "plt.tight_layout()\n",
    "plt.suptitle(\"DGP vs JGP Comparison\", fontsize=14, y=1.02)\n",
    "plt.show()\n"
   ]
  },
  {
   "cell_type": "code",
   "execution_count": 34,
   "metadata": {},
   "outputs": [
    {
     "ename": "ValueError",
     "evalue": "setting an array element with a sequence. The requested array has an inhomogeneous shape after 1 dimensions. The detected shape was (4,) + inhomogeneous part.",
     "output_type": "error",
     "traceback": [
      "\u001b[1;31m---------------------------------------------------------------------------\u001b[0m",
      "\u001b[1;31mValueError\u001b[0m                                Traceback (most recent call last)",
      "Cell \u001b[1;32mIn[34], line 29\u001b[0m\n\u001b[0;32m     26\u001b[0m         jgp_time_all[i]\u001b[38;5;241m.\u001b[39mappend(to_float(res[\u001b[38;5;241m2\u001b[39m]))\n\u001b[0;32m     28\u001b[0m \u001b[38;5;66;03m# 计算每个 M 下，JGP 的最小 RMSE/CRPS/Time（按列取最小）\u001b[39;00m\n\u001b[1;32m---> 29\u001b[0m min_rmse_jgp \u001b[38;5;241m=\u001b[39m \u001b[43mnp\u001b[49m\u001b[38;5;241;43m.\u001b[39;49m\u001b[43mmin\u001b[49m\u001b[43m(\u001b[49m\u001b[43mjgp_rmse_all\u001b[49m\u001b[43m,\u001b[49m\u001b[43m \u001b[49m\u001b[43maxis\u001b[49m\u001b[38;5;241;43m=\u001b[39;49m\u001b[38;5;241;43m0\u001b[39;49m\u001b[43m)\u001b[49m\n\u001b[0;32m     30\u001b[0m min_crps_jgp \u001b[38;5;241m=\u001b[39m np\u001b[38;5;241m.\u001b[39mmin(jgp_crps_all, axis\u001b[38;5;241m=\u001b[39m\u001b[38;5;241m0\u001b[39m)\n\u001b[0;32m     31\u001b[0m min_time_jgp \u001b[38;5;241m=\u001b[39m np\u001b[38;5;241m.\u001b[39mmin(jgp_time_all, axis\u001b[38;5;241m=\u001b[39m\u001b[38;5;241m0\u001b[39m)\n",
      "File \u001b[1;32md:\\new_windows\\envs\\torch-py310-yxu\\lib\\site-packages\\numpy\\_core\\fromnumeric.py:3343\u001b[0m, in \u001b[0;36mmin\u001b[1;34m(a, axis, out, keepdims, initial, where)\u001b[0m\n\u001b[0;32m   3225\u001b[0m \u001b[38;5;129m@array_function_dispatch\u001b[39m(_min_dispatcher)\n\u001b[0;32m   3226\u001b[0m \u001b[38;5;28;01mdef\u001b[39;00m\u001b[38;5;250m \u001b[39m\u001b[38;5;21mmin\u001b[39m(a, axis\u001b[38;5;241m=\u001b[39m\u001b[38;5;28;01mNone\u001b[39;00m, out\u001b[38;5;241m=\u001b[39m\u001b[38;5;28;01mNone\u001b[39;00m, keepdims\u001b[38;5;241m=\u001b[39mnp\u001b[38;5;241m.\u001b[39m_NoValue, initial\u001b[38;5;241m=\u001b[39mnp\u001b[38;5;241m.\u001b[39m_NoValue,\n\u001b[0;32m   3227\u001b[0m         where\u001b[38;5;241m=\u001b[39mnp\u001b[38;5;241m.\u001b[39m_NoValue):\n\u001b[0;32m   3228\u001b[0m \u001b[38;5;250m    \u001b[39m\u001b[38;5;124;03m\"\"\"\u001b[39;00m\n\u001b[0;32m   3229\u001b[0m \u001b[38;5;124;03m    Return the minimum of an array or minimum along an axis.\u001b[39;00m\n\u001b[0;32m   3230\u001b[0m \n\u001b[1;32m   (...)\u001b[0m\n\u001b[0;32m   3341\u001b[0m \u001b[38;5;124;03m    6\u001b[39;00m\n\u001b[0;32m   3342\u001b[0m \u001b[38;5;124;03m    \"\"\"\u001b[39;00m\n\u001b[1;32m-> 3343\u001b[0m     \u001b[38;5;28;01mreturn\u001b[39;00m \u001b[43m_wrapreduction\u001b[49m\u001b[43m(\u001b[49m\u001b[43ma\u001b[49m\u001b[43m,\u001b[49m\u001b[43m \u001b[49m\u001b[43mnp\u001b[49m\u001b[38;5;241;43m.\u001b[39;49m\u001b[43mminimum\u001b[49m\u001b[43m,\u001b[49m\u001b[43m \u001b[49m\u001b[38;5;124;43m'\u001b[39;49m\u001b[38;5;124;43mmin\u001b[39;49m\u001b[38;5;124;43m'\u001b[39;49m\u001b[43m,\u001b[49m\u001b[43m \u001b[49m\u001b[43maxis\u001b[49m\u001b[43m,\u001b[49m\u001b[43m \u001b[49m\u001b[38;5;28;43;01mNone\u001b[39;49;00m\u001b[43m,\u001b[49m\u001b[43m \u001b[49m\u001b[43mout\u001b[49m\u001b[43m,\u001b[49m\n\u001b[0;32m   3344\u001b[0m \u001b[43m                          \u001b[49m\u001b[43mkeepdims\u001b[49m\u001b[38;5;241;43m=\u001b[39;49m\u001b[43mkeepdims\u001b[49m\u001b[43m,\u001b[49m\u001b[43m \u001b[49m\u001b[43minitial\u001b[49m\u001b[38;5;241;43m=\u001b[39;49m\u001b[43minitial\u001b[49m\u001b[43m,\u001b[49m\u001b[43m \u001b[49m\u001b[43mwhere\u001b[49m\u001b[38;5;241;43m=\u001b[39;49m\u001b[43mwhere\u001b[49m\u001b[43m)\u001b[49m\n",
      "File \u001b[1;32md:\\new_windows\\envs\\torch-py310-yxu\\lib\\site-packages\\numpy\\_core\\fromnumeric.py:86\u001b[0m, in \u001b[0;36m_wrapreduction\u001b[1;34m(obj, ufunc, method, axis, dtype, out, **kwargs)\u001b[0m\n\u001b[0;32m     83\u001b[0m         \u001b[38;5;28;01melse\u001b[39;00m:\n\u001b[0;32m     84\u001b[0m             \u001b[38;5;28;01mreturn\u001b[39;00m reduction(axis\u001b[38;5;241m=\u001b[39maxis, out\u001b[38;5;241m=\u001b[39mout, \u001b[38;5;241m*\u001b[39m\u001b[38;5;241m*\u001b[39mpasskwargs)\n\u001b[1;32m---> 86\u001b[0m \u001b[38;5;28;01mreturn\u001b[39;00m ufunc\u001b[38;5;241m.\u001b[39mreduce(obj, axis, dtype, out, \u001b[38;5;241m*\u001b[39m\u001b[38;5;241m*\u001b[39mpasskwargs)\n",
      "\u001b[1;31mValueError\u001b[0m: setting an array element with a sequence. The requested array has an inhomogeneous shape after 1 dimensions. The detected shape was (4,) + inhomogeneous part."
     ]
    }
   ],
   "source": [
    "import matplotlib.pyplot as plt\n",
    "import numpy as np\n",
    "\n",
    "# 你的数据\n",
    "data = loaded_list\n",
    "\n",
    "M_values = [entry['M_selected'] for entry in data]\n",
    "\n",
    "# DGP 指标\n",
    "rmse_dgp = [entry['res_dgp']['rmse'] for entry in data]\n",
    "crps_dgp = [entry['res_dgp']['crps'] for entry in data]\n",
    "time_dgp = [entry['res_dgp']['run_time'] for entry in data]\n",
    "\n",
    "# JGP - 提取所有阶段数据\n",
    "def to_float(x):\n",
    "    return x.item() if hasattr(x, 'item') else x\n",
    "\n",
    "jgp_rmse_all = [[] for _ in range(4)]\n",
    "jgp_crps_all = [[] for _ in range(4)]\n",
    "jgp_time_all = [[] for _ in range(4)]\n",
    "\n",
    "for entry in data:\n",
    "    for i, res in enumerate(entry['res_jgp']):\n",
    "        jgp_rmse_all[i].append(to_float(res[0]))\n",
    "        jgp_crps_all[i].append(to_float(res[1]))\n",
    "        jgp_time_all[i].append(to_float(res[2]))\n",
    "\n",
    "# 计算每个 M 下，JGP 的最小 RMSE/CRPS/Time（按列取最小）\n",
    "min_rmse_jgp = np.min(jgp_rmse_all, axis=0)\n",
    "min_crps_jgp = np.min(jgp_crps_all, axis=0)\n",
    "min_time_jgp = np.min(jgp_time_all, axis=0)\n",
    "\n",
    "# ----------- 绘图 ------------------\n",
    "\n",
    "plt.figure(figsize=(10, 6))\n",
    "\n",
    "# 1. RMSE\n",
    "plt.subplot(3, 1, 1)\n",
    "plt.plot(M_values, rmse_dgp, label=\"DGP RMSE\", marker='o')\n",
    "plt.plot(M_values, min_rmse_jgp, label=\"JGP RMSE (min over stages)\", marker='x')\n",
    "plt.ylabel(\"RMSE\")\n",
    "plt.legend()\n",
    "plt.grid(True)\n",
    "\n",
    "# 2. CRPS\n",
    "plt.subplot(3, 1, 2)\n",
    "plt.plot(M_values, crps_dgp, label=\"DGP CRPS\", marker='o')\n",
    "plt.plot(M_values, min_crps_jgp, label=\"JGP CRPS (min over stages)\", marker='x')\n",
    "plt.ylabel(\"CRPS\")\n",
    "plt.legend()\n",
    "plt.grid(True)\n",
    "\n",
    "# 3. Run Time\n",
    "plt.subplot(3, 1, 3)\n",
    "plt.plot(M_values, time_dgp, label=\"DGP Time\", marker='o')\n",
    "plt.plot(M_values, min_time_jgp, label=\"JGP Time (min over stages)\", marker='x')\n",
    "plt.xlabel(\"M_selected\")\n",
    "plt.ylabel(\"Time (s)\")\n",
    "plt.legend()\n",
    "plt.grid(True)\n",
    "\n",
    "plt.tight_layout()\n",
    "plt.suptitle(\"DGP vs JGP (min over 4 stages)\", fontsize=14, y=1.02)\n",
    "plt.show()\n"
   ]
  },
  {
   "cell_type": "code",
   "execution_count": 27,
   "metadata": {},
   "outputs": [
    {
     "name": "stdout",
     "output_type": "stream",
     "text": [
      "M_selected = 100: Best JGP Stage Neighborhoods = 50\n",
      "M_selected = 200: Best JGP Stage Neighborhoods = 40\n",
      "M_selected = 500: Best JGP Stage Neighborhoods = 50\n",
      "M_selected = 1000: Best JGP Stage Neighborhoods = 20\n",
      "M_selected = 2000: Best JGP Stage Neighborhoods = 20\n",
      "M_selected = 5000: Best JGP Stage Neighborhoods = 50\n"
     ]
    }
   ],
   "source": [
    "# 假设 data 是你已有的结果列表\n",
    "data = loaded_list\n",
    "M_list = [20, 30, 40, 50]\n",
    "\n",
    "def to_float(x):\n",
    "    return x.item() if hasattr(x, 'item') else x\n",
    "\n",
    "best_jgp_stage_indices = []\n",
    "\n",
    "for entry in data:\n",
    "    jgp_stages = entry['res_jgp']\n",
    "    rmse_values = [to_float(stage[0]) for stage in jgp_stages]\n",
    "    best_idx = int(np.argmin(rmse_values))  # 最小 RMSE 的阶段索引\n",
    "    best_jgp_stage_indices.append(best_idx)\n",
    "\n",
    "# 打印结果\n",
    "for m_val, idx in zip([entry['M_selected'] for entry in data], best_jgp_stage_indices):\n",
    "    print(f\"M_selected = {m_val}: Best JGP Stage Neighborhoods = {M_list[idx]}\")\n"
   ]
  },
  {
   "cell_type": "code",
   "execution_count": 31,
   "metadata": {},
   "outputs": [
    {
     "name": "stdout",
     "output_type": "stream",
     "text": [
      "dict_keys(['__header__', '__version__', '__globals__', 'x', 'xt', 'y', 'yt'])\n"
     ]
    },
    {
     "name": "stderr",
     "output_type": "stream",
     "text": [
      "Epoch:   0%|          | 0/300 [00:00<?, ?it/s]"
     ]
    },
    {
     "name": "stderr",
     "output_type": "stream",
     "text": [
      "Epoch:  80%|████████  | 240/300 [01:29<00:22,  2.69it/s, crps=16.8151, loss=286.3597, rmse=20.4224] "
     ]
    },
    {
     "name": "stdout",
     "output_type": "stream",
     "text": [
      "\n",
      "Early stopping triggered after 241 epochs\n",
      "{'rmse': 20.422412872314453, 'crps': 16.815143585205078, 'run_time': 89.3551857471466}\n"
     ]
    },
    {
     "name": "stderr",
     "output_type": "stream",
     "text": [
      "\n"
     ]
    }
   ],
   "source": [
    "import os\n",
    "os.environ[\"LOKY_MAX_CPU_COUNT\"] = \"8\"\n",
    "\n",
    "from scipy.io import loadmat\n",
    "import torch\n",
    "\n",
    "# 加载 .mat 文件\n",
    "data = loadmat('OHTDataset.mat')\n",
    "\n",
    "# 查看文件中有哪些变量\n",
    "print(data.keys())\n",
    "\n",
    "X_train = data['x']\n",
    "Y_train = data['y']\n",
    "X_test = data['xt']\n",
    "Y_test = data['yt']\n",
    "\n",
    "device = torch.device('cuda' if torch.cuda.is_available() else 'cpu')\n",
    "\n",
    "x_test = torch.tensor(X_test, dtype=torch.float32)\n",
    "y_test = torch.tensor(Y_test, dtype=torch.float32).squeeze(-1)\n",
    "x_test = x_test.float().to(device)\n",
    "y_test = y_test.float().squeeze(-1).to(device)\n",
    "\n",
    "x_train = torch.tensor(X_train, dtype=torch.float32)\n",
    "y_train = torch.tensor(Y_train, dtype=torch.float32).squeeze(-1)\n",
    "\n",
    "x_train = x_train.float().to(device)\n",
    "y_train = y_train.float().squeeze(-1).to(device)\n",
    "\n",
    "\n",
    "from JumpGP_test import *\n",
    "from DeepGP_test import *\n",
    "from argparse import Namespace\n",
    "\n",
    "\n",
    "args = Namespace(\n",
    "    epochs=100,           # 训练轮数\n",
    "    num_epochs=300,\n",
    "    batch_size=1024,\n",
    "    hidden_dim=2,\n",
    "    lr=0.01,\n",
    "    print_freq=10,        # 每多少个 epoch 打印一次信息\n",
    "    # save_path=\"./model\",  # 模型保存路径（可选）\n",
    "    eval=True,            # 是否评估模型性能\n",
    "    patience=30,          # 提前停止的耐心轮数\n",
    "    clip_grad=1.0,        # 梯度裁剪（可选）\n",
    "    # 如果你的 train_model 用了更多字段，也可以在这里继续加\n",
    ")\n",
    "\n",
    "\n",
    "# 创建数据加载器\n",
    "batch_size, hidden_dim, lr = 128, 2, 0.01\n",
    "train_dataset = TensorDataset(x_train, y_train)\n",
    "test_dataset = TensorDataset(x_test, y_test)\n",
    "train_loader = DataLoader(train_dataset, batch_size=batch_size, shuffle=True)\n",
    "test_loader = DataLoader(test_dataset, batch_size=batch_size)\n",
    "\n",
    "# 初始化模型\n",
    "model = DeepGP(x_train.shape, hidden_dim).to(device)\n",
    "\n",
    "# 初始化优化器和损失函数\n",
    "optimizer = torch.optim.Adam([{'params': model.parameters()}], lr=lr)\n",
    "mll = DeepApproximateMLL(VariationalELBO(model.likelihood, model, x_train.shape[-2]))\n",
    "\n",
    "# 训练模型\n",
    "final_metrics = train_model(model, train_loader, test_loader, optimizer, mll, args)\n",
    "print(final_metrics)"
   ]
  },
  {
   "cell_type": "code",
   "execution_count": 37,
   "metadata": {},
   "outputs": [
    {
     "name": "stdout",
     "output_type": "stream",
     "text": [
      "dict_keys(['__header__', '__version__', '__globals__', 'x', 'xt', 'y', 'yt'])\n"
     ]
    },
    {
     "name": "stderr",
     "output_type": "stream",
     "text": [
      "100%|██████████| 2069/2069 [04:00<00:00,  8.59it/s]\n"
     ]
    },
    {
     "name": "stdout",
     "output_type": "stream",
     "text": [
      "[tensor(25.4416), tensor(8.4367), 240.98114657402039]\n"
     ]
    }
   ],
   "source": [
    "import os\n",
    "os.environ[\"LOKY_MAX_CPU_COUNT\"] = \"8\"\n",
    "\n",
    "from scipy.io import loadmat\n",
    "import torch\n",
    "\n",
    "# 加载 .mat 文件\n",
    "data = loadmat('OHTDataset.mat')\n",
    "\n",
    "# 查看文件中有哪些变量\n",
    "print(data.keys())\n",
    "\n",
    "X_train = data['x']\n",
    "Y_train = data['y']\n",
    "X_test = data['xt']\n",
    "Y_test = data['yt']\n",
    "\n",
    "device = torch.device('cuda' if torch.cuda.is_available() else 'cpu')\n",
    "\n",
    "x_test = torch.tensor(X_test, dtype=torch.float32)\n",
    "y_test = torch.tensor(Y_test, dtype=torch.float32).squeeze(-1)\n",
    "x_test = x_test.float().to(device)\n",
    "y_test = y_test.float().squeeze(-1).to(device)\n",
    "\n",
    "x_train = torch.tensor(X_train, dtype=torch.float32)\n",
    "y_train = torch.tensor(Y_train, dtype=torch.float32).squeeze(-1)\n",
    "\n",
    "x_train = x_train.float().to(device)\n",
    "y_train = y_train.float().squeeze(-1).to(device)\n",
    "\n",
    "\n",
    "from JumpGP_test import *\n",
    "\n",
    "args = Namespace(\n",
    "    M = 20,\n",
    "    device = device,\n",
    "    use_sir = True,\n",
    "    use_cv = False,\n",
    "    sir_H = 4,\n",
    "    sir_K = 3\n",
    ")\n",
    "x_train, x_test = apply_sir_reduction(x_train, y_train, x_test, args)\n",
    "neighborhoods = find_neighborhoods(x_test, x_train, y_train, args.M)\n",
    "result = evaluate_jumpgp(x_test, y_test, neighborhoods, device)\n",
    "print(result)"
   ]
  },
  {
   "cell_type": "code",
   "execution_count": 38,
   "metadata": {},
   "outputs": [
    {
     "name": "stdout",
     "output_type": "stream",
     "text": [
      "dict_keys(['__header__', '__version__', '__globals__', 'x', 'xt', 'y', 'yt'])\n"
     ]
    },
    {
     "name": "stderr",
     "output_type": "stream",
     "text": [
      "100%|██████████| 2069/2069 [02:22<00:00, 14.57it/s]"
     ]
    },
    {
     "name": "stdout",
     "output_type": "stream",
     "text": [
      "[tensor(17.1635), tensor(6.9687), 142.0180103778839]\n"
     ]
    },
    {
     "name": "stderr",
     "output_type": "stream",
     "text": [
      "\n"
     ]
    }
   ],
   "source": [
    "import os\n",
    "os.environ[\"LOKY_MAX_CPU_COUNT\"] = \"8\"\n",
    "\n",
    "from scipy.io import loadmat\n",
    "import torch\n",
    "\n",
    "# 加载 .mat 文件\n",
    "data = loadmat('OHTDataset.mat')\n",
    "\n",
    "# 查看文件中有哪些变量\n",
    "print(data.keys())\n",
    "\n",
    "X_train = data['x']\n",
    "Y_train = data['y']\n",
    "X_test = data['xt']\n",
    "Y_test = data['yt']\n",
    "\n",
    "device = torch.device('cuda' if torch.cuda.is_available() else 'cpu')\n",
    "\n",
    "x_test = torch.tensor(X_test, dtype=torch.float32)\n",
    "y_test = torch.tensor(Y_test, dtype=torch.float32).squeeze(-1)\n",
    "x_test = x_test.float().to(device)\n",
    "y_test = y_test.float().squeeze(-1).to(device)\n",
    "\n",
    "x_train = torch.tensor(X_train, dtype=torch.float32)\n",
    "y_train = torch.tensor(Y_train, dtype=torch.float32).squeeze(-1)\n",
    "\n",
    "x_train = x_train.float().to(device)\n",
    "y_train = y_train.float().squeeze(-1).to(device)\n",
    "\n",
    "\n",
    "from JumpGP_test import *\n",
    "\n",
    "args = Namespace(\n",
    "    M = 20,\n",
    "    device = device,\n",
    "    use_sir = True,\n",
    "    use_cv = False,\n",
    "    sir_H = 4,\n",
    "    sir_K = 2\n",
    ")\n",
    "x_train, x_test = apply_sir_reduction(x_train, y_train, x_test, args)\n",
    "neighborhoods = find_neighborhoods(x_test, x_train, y_train, args.M)\n",
    "result = evaluate_jumpgp(x_test, y_test, neighborhoods, device)\n",
    "print(result)"
   ]
  },
  {
   "cell_type": "code",
   "execution_count": 1,
   "metadata": {},
   "outputs": [
    {
     "data": {
      "image/png": "[encoded data removed]",
      "text/plain": [
       "<Figure size 1200x600 with 2 Axes>"
      ]
     },
     "metadata": {},
     "output_type": "display_data"
    }
   ],
   "source": [
    "import matplotlib.pyplot as plt\n",
    "\n",
    "# 最新 DJGP 数据（11组）\n",
    "djgp_rmse = [13.2899, 13.0512, 13.2085, 13.2311, 13.5284, 15.0108, 14.6295, 13.7968, 14.1178, 13.8927, 13.0948]\n",
    "djgp_crps = [5.5383, 5.0765, 5.3965, 5.3854, 5.6447, 6.0607, 5.8466, 5.5386, 5.8746, 5.6423, 5.5056]\n",
    "\n",
    "# 其它方法（从图表中读取）\n",
    "jgp_rmse = 14.709\n",
    "jgp_crps = 4.8425\n",
    "\n",
    "tgp_rmse = 15.57313\n",
    "tgp_crps = 6.186506\n",
    "\n",
    "dgp_rmse = 18.24733543\n",
    "dgp_crps = 15.59500027\n",
    "\n",
    "sirjgp_rmse = 17.1635\n",
    "sirjgp_crps = 6.9687\n",
    "\n",
    "# 添加颜色\n",
    "colors = {\n",
    "    'JGP': 'tab:red',\n",
    "    'TGP': 'tab:green',\n",
    "    'DGP': 'tab:blue',\n",
    "    'SIR_JGP': 'tab:purple'\n",
    "}\n",
    "\n",
    "# 创建子图\n",
    "fig, axes = plt.subplots(1, 2, figsize=(12, 6))\n",
    "\n",
    "# --- RMSE ---\n",
    "axes[0].boxplot(djgp_rmse, positions=[1])\n",
    "axes[0].axhline(jgp_rmse, color=colors['JGP'], linestyle='--', linewidth=2, label='JGP')\n",
    "axes[0].axhline(tgp_rmse, color=colors['TGP'], linestyle='-.', linewidth=2, label='TGP')\n",
    "axes[0].axhline(dgp_rmse, color=colors['DGP'], linestyle=':', linewidth=2, label='DGP')\n",
    "axes[0].axhline(sirjgp_rmse, color=colors['SIR_JGP'], linestyle='-', linewidth=2, label='SIR_JGP')\n",
    "axes[0].set_title('RMSE Comparison')\n",
    "axes[0].set_ylabel('RMSE')\n",
    "axes[0].set_xticks([1])\n",
    "axes[0].set_xticklabels(['DJGP'])\n",
    "axes[0].legend()\n",
    "\n",
    "# --- CRPS ---\n",
    "axes[1].boxplot(djgp_crps, positions=[1])\n",
    "axes[1].axhline(jgp_crps, color=colors['JGP'], linestyle='--', linewidth=2, label='JGP')\n",
    "axes[1].axhline(tgp_crps, color=colors['TGP'], linestyle='-.', linewidth=2, label='TGP')\n",
    "axes[1].axhline(dgp_crps, color=colors['DGP'], linestyle=':', linewidth=2, label='DGP')\n",
    "axes[1].axhline(sirjgp_crps, color=colors['SIR_JGP'], linestyle='-', linewidth=2, label='SIR_JGP')\n",
    "axes[1].set_title('CRPS Comparison')\n",
    "axes[1].set_ylabel('CRPS')\n",
    "axes[1].set_xticks([1])\n",
    "axes[1].set_xticklabels(['DJGP'])\n",
    "axes[1].legend()\n",
    "\n",
    "plt.tight_layout()\n",
    "plt.show()\n"
   ]
  },
  {
   "cell_type": "code",
   "execution_count": null,
   "metadata": {},
   "outputs": [],
   "source": []
  }
 ],
 "metadata": {
  "kernelspec": {
   "display_name": "torch-py310-yxu",
   "language": "python",
   "name": "python3"
  },
  "language_info": {
   "codemirror_mode": {
    "name": "ipython",
    "version": 3
   },
   "file_extension": ".py",
   "mimetype": "text/x-python",
   "name": "python",
   "nbconvert_exporter": "python",
   "pygments_lexer": "ipython3",
   "version": "3.10.16"
  }
 },
 "nbformat": 4,
 "nbformat_minor": 2
}
