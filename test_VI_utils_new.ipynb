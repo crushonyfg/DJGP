{
 "cells": [
  {
   "cell_type": "code",
   "execution_count": 6,
   "metadata": {},
   "outputs": [
    {
     "name": "stdout",
     "output_type": "stream",
     "text": [
      "Using device: cuda\n"
     ]
    }
   ],
   "source": [
    "import os\n",
    "os.environ['KMP_DUPLICATE_LIB_OK']='True'\n",
    "import sys\n",
    "# 将 JumpGP_code_py 所在的目录添加到 Python 路径\n",
    "# sys.path.append(os.path.dirname(os.path.dirname(os.path.abspath(__file__))))\n",
    "# sys.path.append(os.path.dirname(os.path.abspath(__file__)))\n",
    "\n",
    "import torch\n",
    "import numpy as np\n",
    "import math\n",
    "\n",
    "from utils1 import jumpgp_ld_wrapper\n",
    "\n",
    "from VI_utils_gpu_acc_U import *\n",
    "from JumpGP_test import *"
   ]
  },
  {
   "cell_type": "code",
   "execution_count": 14,
   "metadata": {},
   "outputs": [
    {
     "name": "stdout",
     "output_type": "stream",
     "text": [
      "Using device: cuda\n",
      "Everything set!\n",
      "ELBO L = -130342.83052780842\n",
      "Gradients OK\n",
      "Step 1/200, ELBO=-130342.8305\n",
      "Step 50/200, ELBO=-122763.7900\n",
      "Step 100/200, ELBO=-115547.6143\n",
      "Step 150/200, ELBO=-108801.5474\n",
      "Step 200/200, ELBO=-102488.3187\n",
      "train OK\n",
      "Prediction OK\n",
      "mu_pred: torch.Size([500, 500])\n",
      "var_pred: torch.Size([500, 500])\n"
     ]
    },
    {
     "data": {
      "text/plain": [
       "(tensor(4.8036, device='cuda:0', dtype=torch.float64, grad_fn=<SqrtBackward0>),\n",
       " tensor(249.8943, device='cuda:0', dtype=torch.float64,\n",
       "        grad_fn=<SqueezeBackward4>),\n",
       " tensor(304.9419, device='cuda:0', dtype=torch.float64,\n",
       "        grad_fn=<SqueezeBackward4>),\n",
       " tensor(382.8676, device='cuda:0', dtype=torch.float64,\n",
       "        grad_fn=<SqueezeBackward4>))"
      ]
     },
     "execution_count": 14,
     "metadata": {},
     "output_type": "execute_result"
    }
   ],
   "source": [
    "import torch\n",
    "\n",
    "# 1. 设备选择：优先使用 GPU\n",
    "device = torch.device(\"cuda\" if torch.cuda.is_available() else \"cpu\")\n",
    "print(f\"Using device: {device}\")\n",
    "\n",
    "# 2. 加载并搬到 device\n",
    "folder_name = \"2025_04_02_00_45\"\n",
    "dataset = load_dataset(folder_name)\n",
    "X_train = dataset[\"X_train\"].to(device)   # (N_train, D)\n",
    "Y_train = dataset[\"Y_train\"].to(device)\n",
    "X_test  = dataset[\"X_test\"].to(device)    # (N_test, D)\n",
    "Y_test  = dataset[\"Y_test\"].to(device)\n",
    "\n",
    "# 3. 自动推导维度\n",
    "N_test, D = X_test.shape\n",
    "N_train   = X_train.shape[0]\n",
    "Q   = 2     # 潜在维度\n",
    "m1  = 10     # 每个 region 的 inducing points 数量\n",
    "m2  = 20     # 全局 inducing points 数量\n",
    "T   = N_test\n",
    "n   = 100   # 每个 region 的邻居数量\n",
    "\n",
    "# 4. 构造 neighborhoods，并把它们搬到 GPU\n",
    "neighborhoods = find_neighborhoods(X_test.cpu(), X_train.cpu(), Y_train.cpu(), M=n)\n",
    "# （find_neighborhoods 内部可能要求 CPU 张量，所以我们传入 cpu()，然后再搬回 GPU）\n",
    "regions = []\n",
    "for i in range(T):\n",
    "    X_nb = neighborhoods[i]['X_neighbors'].to(device)  # (n, D)\n",
    "    y_nb = neighborhoods[i]['y_neighbors'].to(device)  # (n,)\n",
    "    regions.append({\n",
    "        'X': X_nb,\n",
    "        'y': y_nb,\n",
    "        # 'U': 1.0,                        # 常数\n",
    "        'C': torch.randn(m1, Q, device=device)  # 随机初始化\n",
    "    })\n",
    "\n",
    "# 5. 初始化 V_params（放到 GPU）\n",
    "V_params = {\n",
    "    'mu_V':    torch.randn(m2, Q, D, device=device, requires_grad=True),\n",
    "    'sigma_V': torch.rand( m2, Q, D, device=device, requires_grad=True),\n",
    "}\n",
    "\n",
    "# 6. 初始化 u_params（放到 GPU）\n",
    "u_params = []\n",
    "for _ in range(T):\n",
    "    u_params.append({\n",
    "        'U_logit': torch.zeros(1, device=device, requires_grad=True),  # 初始 logit=0 -> U=0.5\n",
    "        'mu_u':         torch.randn(m1, device=device, requires_grad=True),\n",
    "        'Sigma_u':      torch.eye(m1, device=device, requires_grad=True),\n",
    "        'sigma_noise':  torch.tensor(0.5, device=device, requires_grad=True),\n",
    "        'omega':        torch.randn(Q+1, device=device, requires_grad=True),\n",
    "    })\n",
    "\n",
    "# 7. 初始化 hyperparams（放到 GPU）\n",
    "#    用 X_train 的分布来初始化 Z\n",
    "X_train_mean = X_train.mean(dim=0)\n",
    "X_train_std  = X_train.std(dim=0)\n",
    "Z = X_train_mean + torch.randn(m2, D, device=device) * X_train_std\n",
    "\n",
    "hyperparams = {\n",
    "    'Z':             Z,                     # (m2, D)\n",
    "    'X_test':        X_test,                # (T, D)\n",
    "    'lengthscales':  torch.rand(Q, device=device, requires_grad=True),\n",
    "    'var_w':         torch.tensor(1.0, device=device, requires_grad=True),\n",
    "}\n",
    "\n",
    "print(\"Everything set!\")\n",
    "\n",
    "# 8. 计算 ELBO、反向传播、训练、预测（所有计算都在 GPU 上）\n",
    "L = compute_ELBO(regions, V_params, u_params, hyperparams)\n",
    "print(\"ELBO L =\", L.item())\n",
    "L.backward()\n",
    "print(\"Gradients OK\")\n",
    "\n",
    "V_params, u_params, hyperparams = train_vi(\n",
    "    regions=regions,\n",
    "    V_params=V_params,\n",
    "    u_params=u_params,\n",
    "    hyperparams=hyperparams,\n",
    "    lr=1e-3,\n",
    "    num_steps=200,\n",
    "    log_interval=50\n",
    ")\n",
    "print(\"train OK\")\n",
    "\n",
    "mu_pred, var_pred = predict_vi_analytic(regions, V_params, u_params, hyperparams)\n",
    "print(\"Prediction OK\")\n",
    "print(\"mu_pred:\", mu_pred.shape)\n",
    "print(\"var_pred:\", var_pred.shape)\n",
    "\n",
    "rmse, q25, q50, q75 = compute_metrics(mu_pred, var_pred, Y_test)\n",
    "rmse, q25, q50, q75\n"
   ]
  },
  {
   "cell_type": "code",
   "execution_count": 10,
   "metadata": {},
   "outputs": [
    {
     "data": {
      "text/plain": [
       "(tensor(5.2880, device='cuda:0'),\n",
       " tensor(-5.2400, device='cuda:0'),\n",
       " tensor(0.5069, device='cuda:0', dtype=torch.float64, grad_fn=<MaxBackward1>),\n",
       " tensor(-0.0012, device='cuda:0', dtype=torch.float64, grad_fn=<MinBackward1>),\n",
       " tensor(0.2829, device='cuda:0', dtype=torch.float64, grad_fn=<MaxBackward1>),\n",
       " tensor(0.0394, device='cuda:0', dtype=torch.float64, grad_fn=<MinBackward1>))"
      ]
     },
     "execution_count": 10,
     "metadata": {},
     "output_type": "execute_result"
    }
   ],
   "source": [
    "Y_test.max(), Y_test.min(), mu_pred.max(), mu_pred.min(), var_pred.max(), var_pred.min()"
   ]
  },
  {
   "cell_type": "code",
   "execution_count": 3,
   "metadata": {},
   "outputs": [
    {
     "name": "stderr",
     "output_type": "stream",
     "text": [
      "11it [00:14,  1.28it/s]"
     ]
    },
    {
     "name": "stdout",
     "output_type": "stream",
     "text": [
      "maximize_PD func, we fail at iteration 0\n"
     ]
    },
    {
     "name": "stderr",
     "output_type": "stream",
     "text": [
      "21it [00:20,  1.65it/s]"
     ]
    },
    {
     "name": "stdout",
     "output_type": "stream",
     "text": [
      "maximize_PD func, we fail at iteration 0\n"
     ]
    },
    {
     "name": "stderr",
     "output_type": "stream",
     "text": [
      "31it [00:31,  1.06s/it]"
     ]
    },
    {
     "name": "stdout",
     "output_type": "stream",
     "text": [
      "maximize_PD func, we fail at iteration 4\n"
     ]
    },
    {
     "name": "stderr",
     "output_type": "stream",
     "text": [
      "62it [00:58,  1.50it/s]"
     ]
    },
    {
     "name": "stdout",
     "output_type": "stream",
     "text": [
      "maximize_PD func, we fail at iteration 0\n"
     ]
    },
    {
     "name": "stderr",
     "output_type": "stream",
     "text": [
      "71it [01:06,  1.17it/s]"
     ]
    },
    {
     "name": "stdout",
     "output_type": "stream",
     "text": [
      "maximize_PD func, we fail at iteration 0\n"
     ]
    },
    {
     "name": "stderr",
     "output_type": "stream",
     "text": [
      "85it [01:16,  1.41it/s]"
     ]
    },
    {
     "name": "stdout",
     "output_type": "stream",
     "text": [
      "maximize_PD func, we fail at iteration 3\n"
     ]
    },
    {
     "name": "stderr",
     "output_type": "stream",
     "text": [
      "90it [01:22,  1.13s/it]"
     ]
    },
    {
     "name": "stdout",
     "output_type": "stream",
     "text": [
      "maximize_PD func, we fail at iteration 2\n"
     ]
    },
    {
     "name": "stderr",
     "output_type": "stream",
     "text": [
      "106it [01:40,  1.05s/it]"
     ]
    },
    {
     "name": "stdout",
     "output_type": "stream",
     "text": [
      "maximize_PD func, we fail at iteration 3\n"
     ]
    },
    {
     "name": "stderr",
     "output_type": "stream",
     "text": [
      "132it [02:02,  1.32it/s]"
     ]
    },
    {
     "name": "stdout",
     "output_type": "stream",
     "text": [
      "maximize_PD func, we fail at iteration 2\n"
     ]
    },
    {
     "name": "stderr",
     "output_type": "stream",
     "text": [
      "142it [02:09,  1.54it/s]"
     ]
    },
    {
     "name": "stdout",
     "output_type": "stream",
     "text": [
      "maximize_PD func, we fail at iteration 0\n"
     ]
    },
    {
     "name": "stderr",
     "output_type": "stream",
     "text": [
      "158it [02:25,  1.08it/s]"
     ]
    },
    {
     "name": "stdout",
     "output_type": "stream",
     "text": [
      "maximize_PD func, we fail at iteration 0\n"
     ]
    },
    {
     "name": "stderr",
     "output_type": "stream",
     "text": [
      "171it [02:37,  1.16it/s]"
     ]
    },
    {
     "name": "stdout",
     "output_type": "stream",
     "text": [
      "maximize_PD func, we fail at iteration 0\n"
     ]
    },
    {
     "name": "stderr",
     "output_type": "stream",
     "text": [
      "243it [03:42,  1.48it/s]"
     ]
    },
    {
     "name": "stdout",
     "output_type": "stream",
     "text": [
      "maximize_PD func, we fail at iteration 0\n"
     ]
    },
    {
     "name": "stderr",
     "output_type": "stream",
     "text": [
      "247it [03:45,  1.43it/s]"
     ]
    },
    {
     "name": "stdout",
     "output_type": "stream",
     "text": [
      "maximize_PD func, we fail at iteration 0\n"
     ]
    },
    {
     "name": "stderr",
     "output_type": "stream",
     "text": [
      "270it [04:08,  1.45it/s]"
     ]
    },
    {
     "name": "stdout",
     "output_type": "stream",
     "text": [
      "maximize_PD func, we fail at iteration 0\n"
     ]
    },
    {
     "name": "stderr",
     "output_type": "stream",
     "text": [
      "289it [04:24,  1.03s/it]"
     ]
    },
    {
     "name": "stdout",
     "output_type": "stream",
     "text": [
      "maximize_PD func, we fail at iteration 5\n"
     ]
    },
    {
     "name": "stderr",
     "output_type": "stream",
     "text": [
      "304it [04:37,  1.58it/s]"
     ]
    },
    {
     "name": "stdout",
     "output_type": "stream",
     "text": [
      "maximize_PD func, we fail at iteration 0\n"
     ]
    },
    {
     "name": "stderr",
     "output_type": "stream",
     "text": [
      "360it [05:29,  1.05it/s]"
     ]
    },
    {
     "name": "stdout",
     "output_type": "stream",
     "text": [
      "maximize_PD func, we fail at iteration 1\n"
     ]
    },
    {
     "name": "stderr",
     "output_type": "stream",
     "text": [
      "365it [05:33,  1.34it/s]"
     ]
    },
    {
     "name": "stdout",
     "output_type": "stream",
     "text": [
      "maximize_PD func, we fail at iteration 0\n"
     ]
    },
    {
     "name": "stderr",
     "output_type": "stream",
     "text": [
      "369it [05:37,  1.13it/s]"
     ]
    },
    {
     "name": "stdout",
     "output_type": "stream",
     "text": [
      "maximize_PD func, we fail at iteration 1\n"
     ]
    },
    {
     "name": "stderr",
     "output_type": "stream",
     "text": [
      "374it [05:39,  2.12it/s]"
     ]
    },
    {
     "name": "stdout",
     "output_type": "stream",
     "text": [
      "maximize_PD func, we fail at iteration 0\n"
     ]
    },
    {
     "name": "stderr",
     "output_type": "stream",
     "text": [
      "426it [06:28,  1.30it/s]"
     ]
    },
    {
     "name": "stdout",
     "output_type": "stream",
     "text": [
      "maximize_PD func, we fail at iteration 0\n"
     ]
    },
    {
     "name": "stderr",
     "output_type": "stream",
     "text": [
      "461it [07:08,  1.12it/s]"
     ]
    },
    {
     "name": "stdout",
     "output_type": "stream",
     "text": [
      "maximize_PD func, we fail at iteration 2\n"
     ]
    },
    {
     "name": "stderr",
     "output_type": "stream",
     "text": [
      "487it [07:38,  1.13s/it]"
     ]
    },
    {
     "name": "stdout",
     "output_type": "stream",
     "text": [
      "maximize_PD func, we fail at iteration 2\n"
     ]
    },
    {
     "name": "stderr",
     "output_type": "stream",
     "text": [
      "500it [07:51,  1.06it/s]\n",
      "39it [00:38,  1.74it/s]"
     ]
    },
    {
     "name": "stdout",
     "output_type": "stream",
     "text": [
      "maximize_PD func, we fail at iteration 0\n"
     ]
    },
    {
     "name": "stderr",
     "output_type": "stream",
     "text": [
      "47it [00:44,  1.61it/s]"
     ]
    },
    {
     "name": "stdout",
     "output_type": "stream",
     "text": [
      "maximize_PD func, we fail at iteration 0\n"
     ]
    },
    {
     "name": "stderr",
     "output_type": "stream",
     "text": [
      "56it [00:53,  1.37it/s]"
     ]
    },
    {
     "name": "stdout",
     "output_type": "stream",
     "text": [
      "maximize_PD func, we fail at iteration 0\n"
     ]
    },
    {
     "name": "stderr",
     "output_type": "stream",
     "text": [
      "110it [01:35,  2.66it/s]"
     ]
    },
    {
     "name": "stdout",
     "output_type": "stream",
     "text": [
      "maximize_PD func, we fail at iteration 0\n"
     ]
    },
    {
     "name": "stderr",
     "output_type": "stream",
     "text": [
      "127it [01:48,  1.56it/s]"
     ]
    },
    {
     "name": "stdout",
     "output_type": "stream",
     "text": [
      "maximize_PD func, we fail at iteration 0\n"
     ]
    },
    {
     "name": "stderr",
     "output_type": "stream",
     "text": [
      "131it [01:50,  1.72it/s]"
     ]
    },
    {
     "name": "stdout",
     "output_type": "stream",
     "text": [
      "maximize_PD func, we fail at iteration 0\n"
     ]
    },
    {
     "name": "stderr",
     "output_type": "stream",
     "text": [
      "142it [01:58,  1.38it/s]"
     ]
    },
    {
     "name": "stdout",
     "output_type": "stream",
     "text": [
      "maximize_PD func, we fail at iteration 3\n"
     ]
    },
    {
     "name": "stderr",
     "output_type": "stream",
     "text": [
      "198it [02:39,  1.53it/s]"
     ]
    },
    {
     "name": "stdout",
     "output_type": "stream",
     "text": [
      "maximize_PD func, we fail at iteration 0\n"
     ]
    },
    {
     "name": "stderr",
     "output_type": "stream",
     "text": [
      "208it [02:46,  1.39it/s]"
     ]
    },
    {
     "name": "stdout",
     "output_type": "stream",
     "text": [
      "maximize_PD func, we fail at iteration 2\n"
     ]
    },
    {
     "name": "stderr",
     "output_type": "stream",
     "text": [
      "216it [02:52,  1.69it/s]"
     ]
    },
    {
     "name": "stdout",
     "output_type": "stream",
     "text": [
      "maximize_PD func, we fail at iteration 0\n"
     ]
    },
    {
     "name": "stderr",
     "output_type": "stream",
     "text": [
      "268it [03:29,  1.89it/s]"
     ]
    },
    {
     "name": "stdout",
     "output_type": "stream",
     "text": [
      "maximize_PD func, we fail at iteration 0\n"
     ]
    },
    {
     "name": "stderr",
     "output_type": "stream",
     "text": [
      "306it [03:55,  1.36it/s]"
     ]
    },
    {
     "name": "stdout",
     "output_type": "stream",
     "text": [
      "maximize_PD func, we fail at iteration 6\n"
     ]
    },
    {
     "name": "stderr",
     "output_type": "stream",
     "text": [
      "320it [04:04,  1.85it/s]"
     ]
    },
    {
     "name": "stdout",
     "output_type": "stream",
     "text": [
      "maximize_PD func, we fail at iteration 0\n"
     ]
    },
    {
     "name": "stderr",
     "output_type": "stream",
     "text": [
      "346it [04:21,  1.96it/s]"
     ]
    },
    {
     "name": "stdout",
     "output_type": "stream",
     "text": [
      "maximize_PD func, we fail at iteration 0\n"
     ]
    },
    {
     "name": "stderr",
     "output_type": "stream",
     "text": [
      "349it [04:23,  1.63it/s]"
     ]
    },
    {
     "name": "stdout",
     "output_type": "stream",
     "text": [
      "maximize_PD func, we fail at iteration 0\n"
     ]
    },
    {
     "name": "stderr",
     "output_type": "stream",
     "text": [
      "399it [05:02,  1.11it/s]"
     ]
    },
    {
     "name": "stdout",
     "output_type": "stream",
     "text": [
      "maximize_PD func, we fail at iteration 0\n"
     ]
    },
    {
     "name": "stderr",
     "output_type": "stream",
     "text": [
      "418it [05:18,  1.55it/s]"
     ]
    },
    {
     "name": "stdout",
     "output_type": "stream",
     "text": [
      "maximize_PD func, we fail at iteration 0\n"
     ]
    },
    {
     "name": "stderr",
     "output_type": "stream",
     "text": [
      "419it [05:19,  1.83it/s]"
     ]
    },
    {
     "name": "stdout",
     "output_type": "stream",
     "text": [
      "maximize_PD func, we fail at iteration 1\n"
     ]
    },
    {
     "name": "stderr",
     "output_type": "stream",
     "text": [
      "424it [05:22,  2.09it/s]"
     ]
    },
    {
     "name": "stdout",
     "output_type": "stream",
     "text": [
      "maximize_PD func, we fail at iteration 0\n"
     ]
    },
    {
     "name": "stderr",
     "output_type": "stream",
     "text": [
      "495it [06:22,  1.76it/s]"
     ]
    },
    {
     "name": "stdout",
     "output_type": "stream",
     "text": [
      "maximize_PD func, we fail at iteration 0\n"
     ]
    },
    {
     "name": "stderr",
     "output_type": "stream",
     "text": [
      "500it [06:27,  1.29it/s]\n"
     ]
    }
   ],
   "source": [
    "mu_p, var_p = predict_vi(regions, V_params, hyperparams, M=2)"
   ]
  },
  {
   "cell_type": "code",
   "execution_count": 20,
   "metadata": {},
   "outputs": [
    {
     "data": {
      "text/plain": [
       "(tensor(0.1392, device='cuda:0', grad_fn=<MaxBackward1>),\n",
       " tensor(-0.2203, device='cuda:0', grad_fn=<MinBackward1>))"
      ]
     },
     "execution_count": 20,
     "metadata": {},
     "output_type": "execute_result"
    }
   ],
   "source": [
    "mu_pred.max(), mu_pred.min()"
   ]
  },
  {
   "cell_type": "code",
   "execution_count": 5,
   "metadata": {},
   "outputs": [
    {
     "data": {
      "text/plain": [
       "(tensor(3.8759, device='cuda:0'),\n",
       " tensor(2.8957, device='cuda:0'),\n",
       " tensor(3.5684, device='cuda:0'),\n",
       " tensor(3.8811, device='cuda:0'))"
      ]
     },
     "execution_count": 5,
     "metadata": {},
     "output_type": "execute_result"
    }
   ],
   "source": [
    "mu_p.max(), mu_p.min()\n",
    "rmse, q25, q50, q75 = compute_metrics(mu_p, var_p, Y_test)\n",
    "rmse, q25, q50, q75"
   ]
  },
  {
   "cell_type": "code",
   "execution_count": null,
   "metadata": {},
   "outputs": [],
   "source": []
  }
 ],
 "metadata": {
  "kernelspec": {
   "display_name": "torch-py310-yxu",
   "language": "python",
   "name": "python3"
  },
  "language_info": {
   "codemirror_mode": {
    "name": "ipython",
    "version": 3
   },
   "file_extension": ".py",
   "mimetype": "text/x-python",
   "name": "python",
   "nbconvert_exporter": "python",
   "pygments_lexer": "ipython3",
   "version": "3.10.16"
  }
 },
 "nbformat": 4,
 "nbformat_minor": 2
}
